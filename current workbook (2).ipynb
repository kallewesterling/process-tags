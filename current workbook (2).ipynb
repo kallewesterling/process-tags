{
 "cells": [
  {
   "cell_type": "code",
   "execution_count": 21,
   "metadata": {},
   "outputs": [],
   "source": [
    "import CleanText\n",
    "from GeoLocator import *\n",
    "import TAGS, progressbar, pickle, re, time, json\n",
    "\n",
    "from geopy.geocoders import Nominatim\n",
    "from geopy.exc import GeocoderTimedOut\n",
    "from pprint import pprint\n",
    "from pathlib import Path\n",
    "from random import randint\n",
    "\n",
    "from IPython.display import clear_output\n",
    "\n",
    "import unicodedata as ud\n",
    "import pandas as pd"
   ]
  },
  {
   "cell_type": "code",
   "execution_count": 22,
   "metadata": {},
   "outputs": [],
   "source": [
    "def direct_geodata(tweet):\n",
    "    if tweet.geo:\n",
    "        lat = tweet.geo['coordinates'][0]\n",
    "        lng = tweet.geo['coordinates'][1]\n",
    "        return({'lat': lat, 'lng': lng, 'inferred': False, 'geolocator': None})\n",
    "    elif tweet.user.location is not None:\n",
    "        # first, search the written location for geodata:\n",
    "        g = re.search(\"(-?\\d{1,3}\\.\\d{1,10})(, ?-?\\d{1,3}\\.\\d{1,10})?\", tweet.user.location)\n",
    "        if g is not None: \n",
    "            print(tweet.user.location, g.groups())\n",
    "        else:\n",
    "            pass\n",
    "        '''\n",
    "            location = Location(tweet.user.location)\n",
    "            return(location.data)\n",
    "            '''"
   ]
  },
  {
   "cell_type": "code",
   "execution_count": 7,
   "metadata": {},
   "outputs": [],
   "source": [
    "tags = TAGS.document(path=\"../../datasets/tags-tsv/boylesque/TAGS - boylesque - Archive.tsv\", suppress_warnings=True)\n",
    "ids = tags.ids\n",
    "tweets = TAGS.TweetSet(ids[0:28], suppress_warnings=True, progressbar=False)"
   ]
  },
  {
   "cell_type": "code",
   "execution_count": null,
   "metadata": {},
   "outputs": [],
   "source": []
  },
  {
   "cell_type": "code",
   "execution_count": 43,
   "metadata": {},
   "outputs": [],
   "source": [
    "# Sorting into buckets\n",
    "\n",
    "buckets = {}\n",
    "_round = 0\n",
    "df = pd.DataFrame(columns=['Latitude', 'Longitude'])\n",
    "\n",
    "for i, tweet in enumerate(tweets.tweets):\n",
    "    # clear_output(wait=True)\n",
    "    #print(\"\\n\")\n",
    "    # print(f\"{i}/{len(tweets.tweets)}\")\n",
    "    '''\n",
    "    cleaner = CleanText.CleanText(text=tweet.user.location)\n",
    "    cleaner.digits = False\n",
    "    cleaner.clean()\n",
    "    print(cleaner.text)\n",
    "    '''\n",
    "\n",
    "    if tweet.user.location is not None:\n",
    "        g = re.search(\"(-?\\d{1,3}\\.\\d{1,10})(, ?-?\\d{1,3}\\.\\d{1,10})?\", tweet.user.location)\n",
    "        if g is not None: print(tweet.user.location, g.groups())\n",
    "        geodata = direct_geodata(tweet)\n",
    "        \n",
    "        if not 'error' in geodata:\n",
    "            df = df.append({'Latitude': float(geodata['lat']), 'Longitude': float(geodata['lng'])}, ignore_index=True)\n",
    "        '''\n",
    "            _str = f\"{round(float(geodata['lat']), _round)}, {round(float(geodata['lng']), _round)}\"\n",
    "            if _str not in buckets: buckets[_str] = 0\n",
    "            buckets[_str] += 1\n",
    "        '''\n",
    "\n",
    "#pprint(buckets)"
   ]
  },
  {
   "cell_type": "code",
   "execution_count": 44,
   "metadata": {},
   "outputs": [
    {
     "data": {
      "text/html": [
       "<div>\n",
       "<style scoped>\n",
       "    .dataframe tbody tr th:only-of-type {\n",
       "        vertical-align: middle;\n",
       "    }\n",
       "\n",
       "    .dataframe tbody tr th {\n",
       "        vertical-align: top;\n",
       "    }\n",
       "\n",
       "    .dataframe thead th {\n",
       "        text-align: right;\n",
       "    }\n",
       "</style>\n",
       "<table border=\"1\" class=\"dataframe\">\n",
       "  <thead>\n",
       "    <tr style=\"text-align: right;\">\n",
       "      <th></th>\n",
       "      <th>Latitude</th>\n",
       "      <th>Longitude</th>\n",
       "    </tr>\n",
       "  </thead>\n",
       "  <tbody>\n",
       "    <tr>\n",
       "      <th>0</th>\n",
       "      <td>51.889690</td>\n",
       "      <td>0.899465</td>\n",
       "    </tr>\n",
       "    <tr>\n",
       "      <th>1</th>\n",
       "      <td>34.053691</td>\n",
       "      <td>-118.242767</td>\n",
       "    </tr>\n",
       "    <tr>\n",
       "      <th>2</th>\n",
       "      <td>39.748099</td>\n",
       "      <td>-104.995687</td>\n",
       "    </tr>\n",
       "    <tr>\n",
       "      <th>3</th>\n",
       "      <td>54.702354</td>\n",
       "      <td>-3.276575</td>\n",
       "    </tr>\n",
       "    <tr>\n",
       "      <th>4</th>\n",
       "      <td>18.435773</td>\n",
       "      <td>-69.969947</td>\n",
       "    </tr>\n",
       "    <tr>\n",
       "      <th>5</th>\n",
       "      <td>42.387597</td>\n",
       "      <td>-71.099497</td>\n",
       "    </tr>\n",
       "    <tr>\n",
       "      <th>6</th>\n",
       "      <td>55.859126</td>\n",
       "      <td>-4.246316</td>\n",
       "    </tr>\n",
       "    <tr>\n",
       "      <th>7</th>\n",
       "      <td>-37.814218</td>\n",
       "      <td>144.963161</td>\n",
       "    </tr>\n",
       "    <tr>\n",
       "      <th>8</th>\n",
       "      <td>41.894802</td>\n",
       "      <td>12.485338</td>\n",
       "    </tr>\n",
       "    <tr>\n",
       "      <th>9</th>\n",
       "      <td>40.712728</td>\n",
       "      <td>-74.006015</td>\n",
       "    </tr>\n",
       "    <tr>\n",
       "      <th>10</th>\n",
       "      <td>40.712728</td>\n",
       "      <td>-74.006015</td>\n",
       "    </tr>\n",
       "    <tr>\n",
       "      <th>11</th>\n",
       "      <td>52.131802</td>\n",
       "      <td>-106.660767</td>\n",
       "    </tr>\n",
       "    <tr>\n",
       "      <th>12</th>\n",
       "      <td>45.421106</td>\n",
       "      <td>-75.690308</td>\n",
       "    </tr>\n",
       "    <tr>\n",
       "      <th>13</th>\n",
       "      <td>-1.450560</td>\n",
       "      <td>-48.468245</td>\n",
       "    </tr>\n",
       "    <tr>\n",
       "      <th>14</th>\n",
       "      <td>40.650104</td>\n",
       "      <td>-73.949582</td>\n",
       "    </tr>\n",
       "    <tr>\n",
       "      <th>15</th>\n",
       "      <td>34.093214</td>\n",
       "      <td>-118.319612</td>\n",
       "    </tr>\n",
       "    <tr>\n",
       "      <th>16</th>\n",
       "      <td>51.507322</td>\n",
       "      <td>-0.127647</td>\n",
       "    </tr>\n",
       "    <tr>\n",
       "      <th>17</th>\n",
       "      <td>51.507322</td>\n",
       "      <td>-0.127647</td>\n",
       "    </tr>\n",
       "    <tr>\n",
       "      <th>18</th>\n",
       "      <td>34.053691</td>\n",
       "      <td>-118.242767</td>\n",
       "    </tr>\n",
       "    <tr>\n",
       "      <th>19</th>\n",
       "      <td>43.653963</td>\n",
       "      <td>-79.387207</td>\n",
       "    </tr>\n",
       "    <tr>\n",
       "      <th>20</th>\n",
       "      <td>-41.500083</td>\n",
       "      <td>172.834408</td>\n",
       "    </tr>\n",
       "    <tr>\n",
       "      <th>21</th>\n",
       "      <td>-3.996845</td>\n",
       "      <td>-79.201666</td>\n",
       "    </tr>\n",
       "  </tbody>\n",
       "</table>\n",
       "</div>"
      ],
      "text/plain": [
       "     Latitude   Longitude\n",
       "0   51.889690    0.899465\n",
       "1   34.053691 -118.242767\n",
       "2   39.748099 -104.995687\n",
       "3   54.702354   -3.276575\n",
       "4   18.435773  -69.969947\n",
       "5   42.387597  -71.099497\n",
       "6   55.859126   -4.246316\n",
       "7  -37.814218  144.963161\n",
       "8   41.894802   12.485338\n",
       "9   40.712728  -74.006015\n",
       "10  40.712728  -74.006015\n",
       "11  52.131802 -106.660767\n",
       "12  45.421106  -75.690308\n",
       "13  -1.450560  -48.468245\n",
       "14  40.650104  -73.949582\n",
       "15  34.093214 -118.319612\n",
       "16  51.507322   -0.127647\n",
       "17  51.507322   -0.127647\n",
       "18  34.053691 -118.242767\n",
       "19  43.653963  -79.387207\n",
       "20 -41.500083  172.834408\n",
       "21  -3.996845  -79.201666"
      ]
     },
     "execution_count": 44,
     "metadata": {},
     "output_type": "execute_result"
    }
   ],
   "source": [
    "df"
   ]
  },
  {
   "cell_type": "code",
   "execution_count": null,
   "metadata": {},
   "outputs": [],
   "source": []
  },
  {
   "cell_type": "code",
   "execution_count": null,
   "metadata": {},
   "outputs": [],
   "source": []
  },
  {
   "cell_type": "code",
   "execution_count": 45,
   "metadata": {},
   "outputs": [
    {
     "name": "stderr",
     "output_type": "stream",
     "text": [
      "/usr/local/lib/python3.7/site-packages/ipykernel_launcher.py:10: FutureWarning: Interpreting tuple 'by' as a list of keys, rather than a single key. Use 'by=[...]' instead of 'by=(...)'. In the future, a tuple will always mean a single key.\n",
      "  # Remove the CWD from sys.path while we load stuff.\n"
     ]
    }
   ],
   "source": [
    "import pandas as pd\n",
    "import numpy as np\n",
    "\n",
    "\n",
    "\n",
    "step = 0.2\n",
    "to_bin = lambda x: np.floor(x / step) * step\n",
    "df[\"latbin\"] = df.Latitude.map(to_bin)\n",
    "df[\"lonbin\"] = df.Longitude.map(to_bin)\n",
    "groups = df.groupby((\"latbin\", \"lonbin\"))"
   ]
  },
  {
   "cell_type": "code",
   "execution_count": 47,
   "metadata": {},
   "outputs": [
    {
     "data": {
      "text/html": [
       "<div>\n",
       "<style scoped>\n",
       "    .dataframe tbody tr th:only-of-type {\n",
       "        vertical-align: middle;\n",
       "    }\n",
       "\n",
       "    .dataframe tbody tr th {\n",
       "        vertical-align: top;\n",
       "    }\n",
       "\n",
       "    .dataframe thead th {\n",
       "        text-align: right;\n",
       "    }\n",
       "</style>\n",
       "<table border=\"1\" class=\"dataframe\">\n",
       "  <thead>\n",
       "    <tr style=\"text-align: right;\">\n",
       "      <th></th>\n",
       "      <th>Latitude</th>\n",
       "      <th>Longitude</th>\n",
       "      <th>latbin</th>\n",
       "      <th>lonbin</th>\n",
       "    </tr>\n",
       "  </thead>\n",
       "  <tbody>\n",
       "    <tr>\n",
       "      <th>0</th>\n",
       "      <td>51.889690</td>\n",
       "      <td>0.899465</td>\n",
       "      <td>51.8</td>\n",
       "      <td>0.8</td>\n",
       "    </tr>\n",
       "    <tr>\n",
       "      <th>1</th>\n",
       "      <td>34.053691</td>\n",
       "      <td>-118.242767</td>\n",
       "      <td>34.0</td>\n",
       "      <td>-118.4</td>\n",
       "    </tr>\n",
       "    <tr>\n",
       "      <th>2</th>\n",
       "      <td>39.748099</td>\n",
       "      <td>-104.995687</td>\n",
       "      <td>39.6</td>\n",
       "      <td>-105.0</td>\n",
       "    </tr>\n",
       "    <tr>\n",
       "      <th>3</th>\n",
       "      <td>54.702354</td>\n",
       "      <td>-3.276575</td>\n",
       "      <td>54.6</td>\n",
       "      <td>-3.4</td>\n",
       "    </tr>\n",
       "    <tr>\n",
       "      <th>4</th>\n",
       "      <td>18.435773</td>\n",
       "      <td>-69.969947</td>\n",
       "      <td>18.4</td>\n",
       "      <td>-70.0</td>\n",
       "    </tr>\n",
       "    <tr>\n",
       "      <th>5</th>\n",
       "      <td>42.387597</td>\n",
       "      <td>-71.099497</td>\n",
       "      <td>42.2</td>\n",
       "      <td>-71.2</td>\n",
       "    </tr>\n",
       "    <tr>\n",
       "      <th>6</th>\n",
       "      <td>55.859126</td>\n",
       "      <td>-4.246316</td>\n",
       "      <td>55.8</td>\n",
       "      <td>-4.4</td>\n",
       "    </tr>\n",
       "    <tr>\n",
       "      <th>7</th>\n",
       "      <td>-37.814218</td>\n",
       "      <td>144.963161</td>\n",
       "      <td>-38.0</td>\n",
       "      <td>144.8</td>\n",
       "    </tr>\n",
       "    <tr>\n",
       "      <th>8</th>\n",
       "      <td>41.894802</td>\n",
       "      <td>12.485338</td>\n",
       "      <td>41.8</td>\n",
       "      <td>12.4</td>\n",
       "    </tr>\n",
       "    <tr>\n",
       "      <th>9</th>\n",
       "      <td>40.712728</td>\n",
       "      <td>-74.006015</td>\n",
       "      <td>40.6</td>\n",
       "      <td>-74.2</td>\n",
       "    </tr>\n",
       "    <tr>\n",
       "      <th>10</th>\n",
       "      <td>40.712728</td>\n",
       "      <td>-74.006015</td>\n",
       "      <td>40.6</td>\n",
       "      <td>-74.2</td>\n",
       "    </tr>\n",
       "    <tr>\n",
       "      <th>11</th>\n",
       "      <td>52.131802</td>\n",
       "      <td>-106.660767</td>\n",
       "      <td>52.0</td>\n",
       "      <td>-106.8</td>\n",
       "    </tr>\n",
       "    <tr>\n",
       "      <th>12</th>\n",
       "      <td>45.421106</td>\n",
       "      <td>-75.690308</td>\n",
       "      <td>45.4</td>\n",
       "      <td>-75.8</td>\n",
       "    </tr>\n",
       "    <tr>\n",
       "      <th>13</th>\n",
       "      <td>-1.450560</td>\n",
       "      <td>-48.468245</td>\n",
       "      <td>-1.6</td>\n",
       "      <td>-48.6</td>\n",
       "    </tr>\n",
       "    <tr>\n",
       "      <th>14</th>\n",
       "      <td>40.650104</td>\n",
       "      <td>-73.949582</td>\n",
       "      <td>40.6</td>\n",
       "      <td>-74.0</td>\n",
       "    </tr>\n",
       "    <tr>\n",
       "      <th>15</th>\n",
       "      <td>34.093214</td>\n",
       "      <td>-118.319612</td>\n",
       "      <td>34.0</td>\n",
       "      <td>-118.4</td>\n",
       "    </tr>\n",
       "    <tr>\n",
       "      <th>16</th>\n",
       "      <td>51.507322</td>\n",
       "      <td>-0.127647</td>\n",
       "      <td>51.4</td>\n",
       "      <td>-0.2</td>\n",
       "    </tr>\n",
       "    <tr>\n",
       "      <th>17</th>\n",
       "      <td>51.507322</td>\n",
       "      <td>-0.127647</td>\n",
       "      <td>51.4</td>\n",
       "      <td>-0.2</td>\n",
       "    </tr>\n",
       "    <tr>\n",
       "      <th>18</th>\n",
       "      <td>34.053691</td>\n",
       "      <td>-118.242767</td>\n",
       "      <td>34.0</td>\n",
       "      <td>-118.4</td>\n",
       "    </tr>\n",
       "    <tr>\n",
       "      <th>19</th>\n",
       "      <td>43.653963</td>\n",
       "      <td>-79.387207</td>\n",
       "      <td>43.6</td>\n",
       "      <td>-79.4</td>\n",
       "    </tr>\n",
       "    <tr>\n",
       "      <th>20</th>\n",
       "      <td>-41.500083</td>\n",
       "      <td>172.834408</td>\n",
       "      <td>-41.6</td>\n",
       "      <td>172.8</td>\n",
       "    </tr>\n",
       "    <tr>\n",
       "      <th>21</th>\n",
       "      <td>-3.996845</td>\n",
       "      <td>-79.201666</td>\n",
       "      <td>-4.0</td>\n",
       "      <td>-79.4</td>\n",
       "    </tr>\n",
       "  </tbody>\n",
       "</table>\n",
       "</div>"
      ],
      "text/plain": [
       "     Latitude   Longitude  latbin  lonbin\n",
       "0   51.889690    0.899465    51.8     0.8\n",
       "1   34.053691 -118.242767    34.0  -118.4\n",
       "2   39.748099 -104.995687    39.6  -105.0\n",
       "3   54.702354   -3.276575    54.6    -3.4\n",
       "4   18.435773  -69.969947    18.4   -70.0\n",
       "5   42.387597  -71.099497    42.2   -71.2\n",
       "6   55.859126   -4.246316    55.8    -4.4\n",
       "7  -37.814218  144.963161   -38.0   144.8\n",
       "8   41.894802   12.485338    41.8    12.4\n",
       "9   40.712728  -74.006015    40.6   -74.2\n",
       "10  40.712728  -74.006015    40.6   -74.2\n",
       "11  52.131802 -106.660767    52.0  -106.8\n",
       "12  45.421106  -75.690308    45.4   -75.8\n",
       "13  -1.450560  -48.468245    -1.6   -48.6\n",
       "14  40.650104  -73.949582    40.6   -74.0\n",
       "15  34.093214 -118.319612    34.0  -118.4\n",
       "16  51.507322   -0.127647    51.4    -0.2\n",
       "17  51.507322   -0.127647    51.4    -0.2\n",
       "18  34.053691 -118.242767    34.0  -118.4\n",
       "19  43.653963  -79.387207    43.6   -79.4\n",
       "20 -41.500083  172.834408   -41.6   172.8\n",
       "21  -3.996845  -79.201666    -4.0   -79.4"
      ]
     },
     "execution_count": 47,
     "metadata": {},
     "output_type": "execute_result"
    }
   ],
   "source": [
    "df"
   ]
  },
  {
   "cell_type": "code",
   "execution_count": 24,
   "metadata": {},
   "outputs": [],
   "source": [
    "import geopandas\n",
    "world = geopandas.read_file(geopandas.datasets.get_path('naturalearth_lowres'))"
   ]
  },
  {
   "cell_type": "code",
   "execution_count": 25,
   "metadata": {},
   "outputs": [
    {
     "data": {
      "text/html": [
       "<div>\n",
       "<style scoped>\n",
       "    .dataframe tbody tr th:only-of-type {\n",
       "        vertical-align: middle;\n",
       "    }\n",
       "\n",
       "    .dataframe tbody tr th {\n",
       "        vertical-align: top;\n",
       "    }\n",
       "\n",
       "    .dataframe thead th {\n",
       "        text-align: right;\n",
       "    }\n",
       "</style>\n",
       "<table border=\"1\" class=\"dataframe\">\n",
       "  <thead>\n",
       "    <tr style=\"text-align: right;\">\n",
       "      <th></th>\n",
       "      <th>pop_est</th>\n",
       "      <th>continent</th>\n",
       "      <th>name</th>\n",
       "      <th>iso_a3</th>\n",
       "      <th>gdp_md_est</th>\n",
       "      <th>geometry</th>\n",
       "    </tr>\n",
       "  </thead>\n",
       "  <tbody>\n",
       "    <tr>\n",
       "      <th>0</th>\n",
       "      <td>920938</td>\n",
       "      <td>Oceania</td>\n",
       "      <td>Fiji</td>\n",
       "      <td>FJI</td>\n",
       "      <td>8374.0</td>\n",
       "      <td>(POLYGON ((180 -16.06713266364245, 180 -16.555...</td>\n",
       "    </tr>\n",
       "    <tr>\n",
       "      <th>1</th>\n",
       "      <td>53950935</td>\n",
       "      <td>Africa</td>\n",
       "      <td>Tanzania</td>\n",
       "      <td>TZA</td>\n",
       "      <td>150600.0</td>\n",
       "      <td>POLYGON ((33.90371119710453 -0.950000000000000...</td>\n",
       "    </tr>\n",
       "    <tr>\n",
       "      <th>2</th>\n",
       "      <td>603253</td>\n",
       "      <td>Africa</td>\n",
       "      <td>W. Sahara</td>\n",
       "      <td>ESH</td>\n",
       "      <td>906.5</td>\n",
       "      <td>POLYGON ((-8.665589565454809 27.65642588959236...</td>\n",
       "    </tr>\n",
       "    <tr>\n",
       "      <th>3</th>\n",
       "      <td>35623680</td>\n",
       "      <td>North America</td>\n",
       "      <td>Canada</td>\n",
       "      <td>CAN</td>\n",
       "      <td>1674000.0</td>\n",
       "      <td>(POLYGON ((-122.84 49.00000000000011, -122.974...</td>\n",
       "    </tr>\n",
       "    <tr>\n",
       "      <th>4</th>\n",
       "      <td>326625791</td>\n",
       "      <td>North America</td>\n",
       "      <td>United States of America</td>\n",
       "      <td>USA</td>\n",
       "      <td>18560000.0</td>\n",
       "      <td>(POLYGON ((-122.84 49.00000000000011, -120 49....</td>\n",
       "    </tr>\n",
       "  </tbody>\n",
       "</table>\n",
       "</div>"
      ],
      "text/plain": [
       "     pop_est      continent                      name iso_a3  gdp_md_est  \\\n",
       "0     920938        Oceania                      Fiji    FJI      8374.0   \n",
       "1   53950935         Africa                  Tanzania    TZA    150600.0   \n",
       "2     603253         Africa                 W. Sahara    ESH       906.5   \n",
       "3   35623680  North America                    Canada    CAN   1674000.0   \n",
       "4  326625791  North America  United States of America    USA  18560000.0   \n",
       "\n",
       "                                            geometry  \n",
       "0  (POLYGON ((180 -16.06713266364245, 180 -16.555...  \n",
       "1  POLYGON ((33.90371119710453 -0.950000000000000...  \n",
       "2  POLYGON ((-8.665589565454809 27.65642588959236...  \n",
       "3  (POLYGON ((-122.84 49.00000000000011, -122.974...  \n",
       "4  (POLYGON ((-122.84 49.00000000000011, -120 49....  "
      ]
     },
     "execution_count": 25,
     "metadata": {},
     "output_type": "execute_result"
    }
   ],
   "source": [
    "world.head()"
   ]
  },
  {
   "cell_type": "code",
   "execution_count": 27,
   "metadata": {},
   "outputs": [
    {
     "data": {
      "text/plain": [
       "<matplotlib.axes._subplots.AxesSubplot at 0x1282e8860>"
      ]
     },
     "execution_count": 27,
     "metadata": {},
     "output_type": "execute_result"
    },
    {
     "data": {
      "image/png": "[encoded data removed]",
      "text/plain": [
       "<Figure size 432x288 with 1 Axes>"
      ]
     },
     "metadata": {
      "needs_background": "light"
     },
     "output_type": "display_data"
    }
   ],
   "source": [
    "world.plot()"
   ]
  },
  {
   "cell_type": "code",
   "execution_count": null,
   "metadata": {},
   "outputs": [],
   "source": []
  },
  {
   "cell_type": "code",
   "execution_count": null,
   "metadata": {},
   "outputs": [],
   "source": []
  },
  {
   "cell_type": "code",
   "execution_count": null,
   "metadata": {},
   "outputs": [],
   "source": []
  },
  {
   "cell_type": "code",
   "execution_count": null,
   "metadata": {},
   "outputs": [],
   "source": []
  },
  {
   "cell_type": "code",
   "execution_count": null,
   "metadata": {},
   "outputs": [],
   "source": []
  },
  {
   "cell_type": "code",
   "execution_count": null,
   "metadata": {},
   "outputs": [],
   "source": []
  },
  {
   "cell_type": "code",
   "execution_count": null,
   "metadata": {},
   "outputs": [],
   "source": []
  },
  {
   "cell_type": "code",
   "execution_count": null,
   "metadata": {},
   "outputs": [],
   "source": []
  },
  {
   "cell_type": "code",
   "execution_count": 2,
   "metadata": {},
   "outputs": [],
   "source": [
    "import GeoLocator"
   ]
  },
  {
   "cell_type": "code",
   "execution_count": 6,
   "metadata": {},
   "outputs": [
    {
     "name": "stdout",
     "output_type": "stream",
     "text": [
      "Geolocator chosen: Nominatim.\n",
      "Sleeping for 4 seconds...\n",
      "Could not find geographic information for location 37 585869 122 367340\n"
     ]
    }
   ],
   "source": [
    "location = Location('37.585869, 122.367340')"
   ]
  },
  {
   "cell_type": "code",
   "execution_count": 8,
   "metadata": {},
   "outputs": [
    {
     "name": "stdout",
     "output_type": "stream",
     "text": [
      "('37.585869', '122.367340')\n"
     ]
    }
   ],
   "source": [
    "location._sense_lat_lng_from_name()"
   ]
  },
  {
   "cell_type": "code",
   "execution_count": null,
   "metadata": {},
   "outputs": [],
   "source": []
  },
  {
   "cell_type": "code",
   "execution_count": null,
   "metadata": {},
   "outputs": [],
   "source": []
  },
  {
   "cell_type": "code",
   "execution_count": null,
   "metadata": {},
   "outputs": [],
   "source": []
  },
  {
   "cell_type": "code",
   "execution_count": null,
   "metadata": {},
   "outputs": [],
   "source": []
  },
  {
   "cell_type": "code",
   "execution_count": null,
   "metadata": {},
   "outputs": [],
   "source": []
  },
  {
   "cell_type": "code",
   "execution_count": null,
   "metadata": {},
   "outputs": [],
   "source": []
  },
  {
   "cell_type": "code",
   "execution_count": null,
   "metadata": {},
   "outputs": [],
   "source": []
  },
  {
   "cell_type": "code",
   "execution_count": 1,
   "metadata": {},
   "outputs": [],
   "source": [
    "import TAGS, ProcessTweets, CleanText\n",
    "\n",
    "tags = TAGS.document(path=\"../../datasets/tags-tsv/boylesque/TAGS - boylesque - Archive.tsv\", suppress_warnings=True)\n",
    "ids = tags.ids\n",
    "tweets = TAGS.TweetSet(ids[0:50], suppress_warnings=True, progressbar=False, include_retweets=False)"
   ]
  },
  {
   "cell_type": "code",
   "execution_count": null,
   "metadata": {},
   "outputs": [],
   "source": []
  },
  {
   "cell_type": "code",
   "execution_count": 4,
   "metadata": {},
   "outputs": [
    {
     "name": "stdout",
     "output_type": "stream",
     "text": [
      "Los Angeles, CA\n",
      "Denver, CO\n",
      "Somerville, MA\n",
      "New York\n",
      "Saskatoon, Saskatchewan\n",
      "Ottawa, Canada\n",
      "Brooklyn, New York\n",
      "Hollywood\n",
      "Toronto\n",
      "Los Angeles, CA\n",
      "OC and LA \n",
      "Austin, Texas \n"
     ]
    }
   ],
   "source": [
    "for t in tweets.tweets:\n",
    "    p = ProcessTweets.AnalysisTools(t)\n",
    "    \n",
    "    '''\n",
    "    potential_names = p.potential_names\n",
    "    print(potential_names)\n",
    "    '''\n",
    "    \n",
    "    inside = p.inside_country(\"US\")\n",
    "    if inside: print(t.user.location)"
   ]
  },
  {
   "cell_type": "code",
   "execution_count": 5,
   "metadata": {},
   "outputs": [],
   "source": [
    "import json"
   ]
  },
  {
   "cell_type": "code",
   "execution_count": null,
   "metadata": {},
   "outputs": [],
   "source": []
  },
  {
   "cell_type": "code",
   "execution_count": null,
   "metadata": {},
   "outputs": [],
   "source": []
  },
  {
   "cell_type": "code",
   "execution_count": 49,
   "metadata": {},
   "outputs": [],
   "source": []
  },
  {
   "cell_type": "code",
   "execution_count": null,
   "metadata": {},
   "outputs": [],
   "source": []
  },
  {
   "cell_type": "code",
   "execution_count": null,
   "metadata": {},
   "outputs": [],
   "source": []
  },
  {
   "cell_type": "code",
   "execution_count": 60,
   "metadata": {},
   "outputs": [],
   "source": [
    "def get_country_poly(country_code):\n",
    "    from shapely.geometry import shape\n",
    "    for c in ProcessTweets.COUNTRY_GEOJSON['features']:\n",
    "        if country_code in c['properties']['ADMIN'].lower(): return(c['properties']['ADMIN'], shape(c['geometry']))"
   ]
  },
  {
   "cell_type": "code",
   "execution_count": null,
   "metadata": {},
   "outputs": [],
   "source": [
    "poly = get_country_poly(\"united states of america\")[1]\n",
    "\n",
    "from shapely.geometry import Point\n",
    "\n",
    "for t in tweets.tweets:\n",
    "    p = ProcessTweets.AnalysisTools(t)\n",
    "    if 'lat' in p.geo and 'lng' in p.geo:\n",
    "        point = Point(p.geo['lat'], p.geo['lng'])\n",
    "        print(p.tweet.user.location, poly.contains(point))\n",
    "        print(poly.intersects(point))"
   ]
  },
  {
   "cell_type": "code",
   "execution_count": null,
   "metadata": {},
   "outputs": [],
   "source": []
  },
  {
   "cell_type": "code",
   "execution_count": null,
   "metadata": {},
   "outputs": [],
   "source": []
  },
  {
   "cell_type": "code",
   "execution_count": null,
   "metadata": {},
   "outputs": [],
   "source": []
  },
  {
   "cell_type": "code",
   "execution_count": 46,
   "metadata": {},
   "outputs": [
    {
     "data": {
      "text/plain": [
       "-118.2427666"
      ]
     },
     "execution_count": 46,
     "metadata": {},
     "output_type": "execute_result"
    }
   ],
   "source": []
  },
  {
   "cell_type": "code",
   "execution_count": null,
   "metadata": {},
   "outputs": [],
   "source": []
  },
  {
   "cell_type": "code",
   "execution_count": null,
   "metadata": {},
   "outputs": [],
   "source": []
  },
  {
   "cell_type": "code",
   "execution_count": null,
   "metadata": {},
   "outputs": [],
   "source": []
  },
  {
   "cell_type": "code",
   "execution_count": null,
   "metadata": {},
   "outputs": [],
   "source": []
  }
 ],
 "metadata": {
  "kernelspec": {
   "display_name": "Python 3",
   "language": "python",
   "name": "python3"
  },
  "language_info": {
   "codemirror_mode": {
    "name": "ipython",
    "version": 3
   },
   "file_extension": ".py",
   "mimetype": "text/x-python",
   "name": "python",
   "nbconvert_exporter": "python",
   "pygments_lexer": "ipython3",
   "version": "3.7.1"
  }
 },
 "nbformat": 4,
 "nbformat_minor": 2
}
