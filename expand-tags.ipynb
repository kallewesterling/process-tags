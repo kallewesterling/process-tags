{
 "cells": [
  {
   "cell_type": "code",
   "execution_count": 1,
   "metadata": {},
   "outputs": [],
   "source": [
    "from pprint import pprint\n",
    "import json\n",
    "import csv\n",
    "import tweepy\n",
    "import yaml\n",
    "import time\n",
    "\n",
    "from pathlib import Path\n",
    "from time import sleep\n",
    "import progressbar\n",
    "import re"
   ]
  },
  {
   "cell_type": "code",
   "execution_count": 2,
   "metadata": {},
   "outputs": [],
   "source": [
    "# Set up cache directories\n",
    "tweet_cache_dir = Path('/Users/kallewesterling/_twitter_cache/tweets/')\n",
    "user_cache_dir = Path('/Users/kallewesterling/_twitter_cache/users/')\n",
    "\n",
    "if not tweet_cache_dir.is_dir(): tweet_cache_dir.mkdir(parents=True)\n",
    "if not user_cache_dir.is_dir(): user_cache_dir.mkdir(parents=True)"
   ]
  },
  {
   "cell_type": "code",
   "execution_count": 3,
   "metadata": {},
   "outputs": [],
   "source": [
    "# Set up tweepy\n",
    "class _TwitterCredentials():\n",
    "\n",
    "    def __init__(self):\n",
    "        with open('../conference-documentation/credentials.yml') as f: self._ = yaml.load(f)\n",
    "\n",
    "    def __getitem__(self, i):\n",
    "        return self._[i]\n",
    "\n",
    "twitter_credentials = _TwitterCredentials()\n",
    "\n",
    "auth = tweepy.OAuthHandler(twitter_credentials['consumer_key'], twitter_credentials['consumer_secret'])\n",
    "auth.set_access_token(twitter_credentials['access_token'], twitter_credentials['access_token_secret'])\n",
    "api = tweepy.API(auth, wait_on_rate_limit=True, wait_on_rate_limit_notify=True)"
   ]
  },
  {
   "cell_type": "code",
   "execution_count": 19,
   "metadata": {},
   "outputs": [],
   "source": [
    "def expand_tags_tsv(file, _filter=False, filter_field=None, filter_value=None, done=[]):\n",
    "    if Path(file).is_file(): _ = [Path(file)]\n",
    "    elif Path(file).is_dir(): _ = Path(file).glob(pattern=\"*.tsv\")\n",
    "    else:\n",
    "        raise RuntimeError(f\"Cannot interpret passed argument: {file}.\")\n",
    "    for file in _:\n",
    "        if file.name not in done:\n",
    "            empty_rows, unable_to_interpret, saved_from_twitter, saved_from_tags = 0, 0, 0, 0\n",
    "\n",
    "            with Path(file).open(\"r\") as f:\n",
    "                _len = len(f.readlines())\n",
    "            with Path(file).open(\"r\") as f:\n",
    "                print(f\"Reading {Path(file).name}...\")\n",
    "                time.sleep(1)\n",
    "                bar = progressbar.ProgressBar(max_value=_len).start()\n",
    "                reader = csv.DictReader(f, delimiter='\\t')\n",
    "                for i, rows in enumerate(reader):\n",
    "                    stop = False\n",
    "\n",
    "                    bar.update(i)\n",
    "                    if not rows['created_at'] and not rows['from_user'] and not rows['text']:\n",
    "                        pass\n",
    "                    try:\n",
    "                        id_int = int(rows['id_str'])\n",
    "                        _dict = tags_to_dict(rows)\n",
    "                        if _filter: \n",
    "                            try:\n",
    "                                if filter_value in _dict[filter_field]: stop = False\n",
    "                                else: stop = True\n",
    "                            except TypeError:\n",
    "                                stop = True\n",
    "\n",
    "                        if not stop:\n",
    "                            tweet_cache = tweet_cache_dir / _dict[\"id_str\"]\n",
    "                            if not tweet_cache.is_file():\n",
    "                                ## First, check twitter for tweet here... \n",
    "                                try:\n",
    "                                    live_tweet = api.get_status(_dict['id_str'], tweet_mode=\"extended\")\n",
    "                                    _json = live_tweet._json\n",
    "                                    _json['json_source'] = 'Twitter'\n",
    "\n",
    "                                    _json_user = _json['user']\n",
    "                                    _json['user'] = _json_user['id']\n",
    "\n",
    "                                    with Path(tweet_cache).open(\"w+\") as f:\n",
    "                                        json.dump(_json, f)\n",
    "\n",
    "                                    user_cache = user_cache_dir / str(_json_user[\"id\"])\n",
    "                                    if not user_cache.is_file():\n",
    "                                        with Path(user_cache).open(\"w+\") as f:\n",
    "                                            _json_user['json_source'] = 'Twitter'\n",
    "                                            json.dump(_json_user, f)\n",
    "\n",
    "                                    saved_from_twitter += 1\n",
    "\n",
    "                                except tweepy.TweepError as e:\n",
    "                                    ## No tweet available:\n",
    "                                    with Path(tweet_cache).open(\"w+\") as f:\n",
    "                                        _dict['error'] = str(e)\n",
    "                                        json.dump(_dict, f)\n",
    "                                    saved_from_tags += 1\n",
    "\n",
    "                                    try:\n",
    "                                        user_cache = user_cache_dir / str(_dict[\"user\"][\"id_str\"])\n",
    "                                        if not user_cache.is_file():\n",
    "                                            live_user = api.get_user(_dict[\"user\"][\"id_str\"])\n",
    "                                            _json_user = live_user._json\n",
    "\n",
    "                                            # remove the user's latest status\n",
    "                                            try: del _json_user['status']\n",
    "                                            except KeyError: pass\n",
    "\n",
    "                                            _json_user['json_source'] = 'Twitter'\n",
    "\n",
    "                                            with Path(user_cache).open(\"w+\") as f:\n",
    "                                                json.dump(_json_user, f)\n",
    "\n",
    "                                    except tweepy.TweepError as e:\n",
    "                                        if not user_cache.is_file():\n",
    "                                            _json_user = {\"error\": str(e)}\n",
    "                                            with Path(user_cache).open(\"w+\") as f:\n",
    "                                                json.dump(_json_user, f)\n",
    "\n",
    "\n",
    "                    except ValueError:\n",
    "                        if rows['id_str'] == \"\":\n",
    "                            empty_rows += 1\n",
    "                        else:\n",
    "                            try:\n",
    "                                # print(f\"Warning: Could not interpret row {i} in file {Path(file).name} due to unintelligibility but trying to find tweet ID...\")\n",
    "                                _ = re.search(pattern=\"\\/statuses\\/([0-9]+)'\\)\", string=str(rows))\n",
    "                                g = _.groups()\n",
    "                                # print(f\"Good news! Found ID: {g}\")\n",
    "                                tweet_cache = tweet_cache_dir / g[0]\n",
    "                                if not tweet_cache.is_file():\n",
    "                                    ## First, check twitter for tweet here... \n",
    "                                    try:\n",
    "                                        if _filter: \n",
    "                                            try:\n",
    "                                                if filter_value in _dict[filter_field]: stop = False\n",
    "                                                else: stop = True\n",
    "                                            except TypeError:\n",
    "                                                stop = True\n",
    "\n",
    "                                        if not stop:\n",
    "                                            live_tweet = api.get_status(g[0], tweet_mode=\"extended\")\n",
    "                                            _json = live_tweet._json\n",
    "                                            _json['json_source'] = 'Twitter'\n",
    "\n",
    "                                            _json_user = _json['user']\n",
    "                                            _json['user'] = _json_user['id']\n",
    "\n",
    "                                            with Path(tweet_cache).open(\"w+\") as f:\n",
    "                                                json.dump(_json, f)\n",
    "\n",
    "                                            user_cache = user_cache_dir / str(_json_user[\"id\"])\n",
    "                                            if not user_cache.is_file():\n",
    "                                                with Path(user_cache).open(\"w+\") as f:\n",
    "                                                    _json_user['json_source'] = 'Twitter'\n",
    "                                                    json.dump(_json_user, f)\n",
    "                                    except tweepy.TweepError as e:\n",
    "                                        ## No tweet available:\n",
    "                                        with Path(tweet_cache).open(\"w+\") as f:\n",
    "                                            _dict['error'] = str(e)\n",
    "                                            json.dump(_dict, f)\n",
    "                                    except:\n",
    "                                        print(f\"An error occurred in file {f}\")\n",
    "                            except:\n",
    "                                unable_to_interpret += 1\n",
    "                bar.finish()\n",
    "                print(f\"---- done processing {Path(file).name} - report: -----\")\n",
    "                print(f\"- {empty_rows} empty rows encountered.\")\n",
    "                print(f\"- Unable to interpret {unable_to_interpret} rows.\")\n",
    "                print(\"\\n\")\n",
    "                print(f\"- {saved_from_twitter} tweets saved from Twitter.\")\n",
    "                print(f\"- {saved_from_tags} tweets saved from TAGS.\")\n",
    "                print(\"\\n\")\n",
    "\n",
    "def tags_to_dict(rows):\n",
    "    if not rows['id_str']:\n",
    "        print(\"STOP\")\n",
    "        pprint(rows)\n",
    "        exit()\n",
    "    else:\n",
    "        _dict = {\n",
    "            'created_at': rows['created_at'],\n",
    "            'id': int(rows['id_str']),\n",
    "            'id_str': rows['id_str'],\n",
    "                            'from_user': rows['from_user'],\n",
    "            'full_text': rows['text'],\n",
    "            'geo_coordinates': rows['geo_coordinates'],\n",
    "            'lang': rows['user_lang'],\n",
    "            'in_reply_to_user_id_str': rows['in_reply_to_user_id_str'],\n",
    "            'in_reply_to_screen_name': rows['in_reply_to_screen_name'],\n",
    "            'user': {\n",
    "                'id_str': rows['from_user_id_str'],\n",
    "                'followers_count': rows['user_followers_count'],\n",
    "                'friends_count': rows['user_friends_count'],\n",
    "            },\n",
    "            'in_reply_to_status_id_str': rows['in_reply_to_status_id_str'],\n",
    "            'source': rows['source'],\n",
    "            'profile_image_url': rows['profile_image_url'],\n",
    "            'entities_str': rows['entities_str'],\n",
    "            'json_source': \"TAGS\"\n",
    "        }\n",
    "    return(_dict)"
   ]
  },
  {
   "cell_type": "code",
   "execution_count": 20,
   "metadata": {},
   "outputs": [
    {
     "data": {
      "text/plain": [
       "'\\nexpand_tags_tsv(\\'../../datasets/tags-tsv/burlesque/TAGS - burlesque 1 - Archive.tsv\\', _filter=True, filter_field=\"full_text\", filter_value=\"burlesque\") # done\\n'"
      ]
     },
     "execution_count": 20,
     "metadata": {},
     "output_type": "execute_result"
    }
   ],
   "source": [
    "# The expand_tags_tsv function accepts whole directories or, if you prefer, individual TAGS archive sheets, saved as .tsv files\n",
    "'''\n",
    "expand_tags_tsv('../../datasets/tags-tsv/burlesque/TAGS - burlesque 1 - Archive.tsv', _filter=True, filter_field=\"full_text\", filter_value=\"burlesque\") # done\n",
    "'''"
   ]
  },
  {
   "cell_type": "code",
   "execution_count": 21,
   "metadata": {},
   "outputs": [
    {
     "data": {
      "text/plain": [
       "'\\nexpand_tags_tsv(\\'../../datasets/tags-tsv/burlesque/TAGS - burlesque 10 - Archive.tsv\\', _filter=True, filter_field=\"full_text\", filter_value=\"burlesque\")\\n'"
      ]
     },
     "execution_count": 21,
     "metadata": {},
     "output_type": "execute_result"
    }
   ],
   "source": [
    "'''\n",
    "expand_tags_tsv('../../datasets/tags-tsv/burlesque/TAGS - burlesque 10 - Archive.tsv', _filter=True, filter_field=\"full_text\", filter_value=\"burlesque\")\n",
    "'''"
   ]
  },
  {
   "cell_type": "code",
   "execution_count": 25,
   "metadata": {},
   "outputs": [
    {
     "name": "stdout",
     "output_type": "stream",
     "text": [
      "Reading TAGS - burlesque 49 - Archive.tsv...\n"
     ]
    },
    {
     "name": "stderr",
     "output_type": "stream",
     "text": [
      "100% (44922 of 44922) |##################| Elapsed Time: 0:00:04 Time:  0:00:04\n"
     ]
    },
    {
     "name": "stdout",
     "output_type": "stream",
     "text": [
      "---- done processing TAGS - burlesque 49 - Archive.tsv - report: -----\n",
      "- 0 empty rows encountered.\n",
      "- Unable to interpret 0 rows.\n",
      "\n",
      "\n",
      "- 0 tweets saved from Twitter.\n",
      "- 0 tweets saved from TAGS.\n",
      "\n",
      "\n",
      "Reading TAGS - burlesque 17 - Archive.tsv...\n"
     ]
    },
    {
     "name": "stderr",
     "output_type": "stream",
     "text": [
      "100% (47675 of 47675) |##################| Elapsed Time: 0:00:05 Time:  0:00:05\n"
     ]
    },
    {
     "name": "stdout",
     "output_type": "stream",
     "text": [
      "---- done processing TAGS - burlesque 17 - Archive.tsv - report: -----\n",
      "- 0 empty rows encountered.\n",
      "- Unable to interpret 0 rows.\n",
      "\n",
      "\n",
      "- 0 tweets saved from Twitter.\n",
      "- 0 tweets saved from TAGS.\n",
      "\n",
      "\n",
      "Reading TAGS - burlesque 39 - Archive.tsv...\n"
     ]
    },
    {
     "name": "stderr",
     "output_type": "stream",
     "text": [
      "100% (44997 of 44997) |##################| Elapsed Time: 0:00:03 Time:  0:00:03\n"
     ]
    },
    {
     "name": "stdout",
     "output_type": "stream",
     "text": [
      "---- done processing TAGS - burlesque 39 - Archive.tsv - report: -----\n",
      "- 123 empty rows encountered.\n",
      "- Unable to interpret 131 rows.\n",
      "\n",
      "\n",
      "- 0 tweets saved from Twitter.\n",
      "- 0 tweets saved from TAGS.\n",
      "\n",
      "\n",
      "Reading TAGS - burlesque 13 - Archive.tsv...\n"
     ]
    },
    {
     "name": "stderr",
     "output_type": "stream",
     "text": [
      "100% (56163 of 56163) |##################| Elapsed Time: 0:00:06 Time:  0:00:06\n"
     ]
    },
    {
     "name": "stdout",
     "output_type": "stream",
     "text": [
      "---- done processing TAGS - burlesque 13 - Archive.tsv - report: -----\n",
      "- 68 empty rows encountered.\n",
      "- Unable to interpret 3 rows.\n",
      "\n",
      "\n",
      "- 0 tweets saved from Twitter.\n",
      "- 0 tweets saved from TAGS.\n",
      "\n",
      "\n",
      "Reading TAGS - burlesque 14 - Archive.tsv...\n"
     ]
    },
    {
     "name": "stderr",
     "output_type": "stream",
     "text": [
      "100% (48854 of 48854) |##################| Elapsed Time: 0:00:03 Time:  0:00:03\n"
     ]
    },
    {
     "name": "stdout",
     "output_type": "stream",
     "text": [
      "---- done processing TAGS - burlesque 14 - Archive.tsv - report: -----\n",
      "- 0 empty rows encountered.\n",
      "- Unable to interpret 4 rows.\n",
      "\n",
      "\n",
      "- 0 tweets saved from Twitter.\n",
      "- 0 tweets saved from TAGS.\n",
      "\n",
      "\n",
      "Reading TAGS - burlesque 34 (1) - Archive.tsv...\n"
     ]
    },
    {
     "name": "stderr",
     "output_type": "stream",
     "text": [
      "100% (50410 of 50410) |##################| Elapsed Time: 0:00:03 Time:  0:00:03\n"
     ]
    },
    {
     "name": "stdout",
     "output_type": "stream",
     "text": [
      "---- done processing TAGS - burlesque 34 (1) - Archive.tsv - report: -----\n",
      "- 73 empty rows encountered.\n",
      "- Unable to interpret 3 rows.\n",
      "\n",
      "\n",
      "- 0 tweets saved from Twitter.\n",
      "- 0 tweets saved from TAGS.\n",
      "\n",
      "\n",
      "Reading TAGS - burlesque 10 - Archive.tsv...\n"
     ]
    },
    {
     "name": "stderr",
     "output_type": "stream",
     "text": []
    },
    {
     "name": "stderr",
     "output_type": "stream",
     "text": [
      "100% (97144 of 97144) |##################| Elapsed Time: 0:00:13 Time:  0:00:13\n"
     ]
    },
    {
     "name": "stdout",
     "output_type": "stream",
     "text": [
      "---- done processing TAGS - burlesque 10 - Archive.tsv - report: -----\n",
      "- 222 empty rows encountered.\n",
      "- Unable to interpret 7 rows.\n",
      "\n",
      "\n",
      "- 0 tweets saved from Twitter.\n",
      "- 0 tweets saved from TAGS.\n",
      "\n",
      "\n",
      "Reading TAGS - burlesque 29 - Archive.tsv...\n"
     ]
    },
    {
     "name": "stderr",
     "output_type": "stream",
     "text": [
      "100% (51810 of 51810) |##################| Elapsed Time: 0:00:05 Time:  0:00:05\n"
     ]
    },
    {
     "name": "stdout",
     "output_type": "stream",
     "text": [
      "---- done processing TAGS - burlesque 29 - Archive.tsv - report: -----\n",
      "- 69 empty rows encountered.\n",
      "- Unable to interpret 1 rows.\n",
      "\n",
      "\n",
      "- 0 tweets saved from Twitter.\n",
      "- 0 tweets saved from TAGS.\n",
      "\n",
      "\n",
      "Reading TAGS - burlesque 8 - Archive.tsv...\n"
     ]
    },
    {
     "name": "stderr",
     "output_type": "stream",
     "text": [
      "100% (117096 of 117096) |################| Elapsed Time: 0:00:11 Time:  0:00:11\n"
     ]
    },
    {
     "name": "stdout",
     "output_type": "stream",
     "text": [
      "---- done processing TAGS - burlesque 8 - Archive.tsv - report: -----\n",
      "- 0 empty rows encountered.\n",
      "- Unable to interpret 4 rows.\n",
      "\n",
      "\n",
      "- 0 tweets saved from Twitter.\n",
      "- 0 tweets saved from TAGS.\n",
      "\n",
      "\n",
      "Reading TAGS - burlesque 33 (2) - Archive.tsv...\n"
     ]
    },
    {
     "name": "stderr",
     "output_type": "stream",
     "text": [
      "100% (49323 of 49323) |##################| Elapsed Time: 0:00:05 Time:  0:00:05\n"
     ]
    },
    {
     "name": "stdout",
     "output_type": "stream",
     "text": [
      "---- done processing TAGS - burlesque 33 (2) - Archive.tsv - report: -----\n",
      "- 75 empty rows encountered.\n",
      "- Unable to interpret 10 rows.\n",
      "\n",
      "\n",
      "- 0 tweets saved from Twitter.\n",
      "- 0 tweets saved from TAGS.\n",
      "\n",
      "\n",
      "Reading TAGS - burlesque 59 - Archive.tsv...\n"
     ]
    },
    {
     "name": "stderr",
     "output_type": "stream",
     "text": []
    },
    {
     "name": "stderr",
     "output_type": "stream",
     "text": []
    },
    {
     "name": "stderr",
     "output_type": "stream",
     "text": []
    },
    {
     "name": "stderr",
     "output_type": "stream",
     "text": []
    },
    {
     "name": "stderr",
     "output_type": "stream",
     "text": [
      "100% (148133 of 148133) |################| Elapsed Time: 0:00:18 Time:  0:00:18\n"
     ]
    },
    {
     "name": "stdout",
     "output_type": "stream",
     "text": [
      "---- done processing TAGS - burlesque 59 - Archive.tsv - report: -----\n",
      "- 0 empty rows encountered.\n",
      "- Unable to interpret 38 rows.\n",
      "\n",
      "\n",
      "- 0 tweets saved from Twitter.\n",
      "- 0 tweets saved from TAGS.\n",
      "\n",
      "\n",
      "Reading TAGS - burlesque 2 - Archive.tsv...\n"
     ]
    },
    {
     "name": "stderr",
     "output_type": "stream",
     "text": []
    },
    {
     "name": "stderr",
     "output_type": "stream",
     "text": [
      "100% (117684 of 117684) |################| Elapsed Time: 0:00:13 Time:  0:00:13\n"
     ]
    },
    {
     "name": "stdout",
     "output_type": "stream",
     "text": [
      "---- done processing TAGS - burlesque 2 - Archive.tsv - report: -----\n",
      "- 0 empty rows encountered.\n",
      "- Unable to interpret 22 rows.\n",
      "\n",
      "\n",
      "- 0 tweets saved from Twitter.\n",
      "- 0 tweets saved from TAGS.\n",
      "\n",
      "\n",
      "Reading TAGS - burlesque 44 - Archive.tsv...\n"
     ]
    },
    {
     "name": "stderr",
     "output_type": "stream",
     "text": [
      "100% (43580 of 43580) |##################| Elapsed Time: 0:00:06 Time:  0:00:06\n"
     ]
    },
    {
     "name": "stdout",
     "output_type": "stream",
     "text": [
      "---- done processing TAGS - burlesque 44 - Archive.tsv - report: -----\n",
      "- 74 empty rows encountered.\n",
      "- Unable to interpret 0 rows.\n",
      "\n",
      "\n",
      "- 0 tweets saved from Twitter.\n",
      "- 0 tweets saved from TAGS.\n",
      "\n",
      "\n",
      "Reading TAGS - burlesque 53 - Archive.tsv...\n"
     ]
    },
    {
     "name": "stderr",
     "output_type": "stream",
     "text": []
    },
    {
     "name": "stderr",
     "output_type": "stream",
     "text": [
      "100% (59842 of 59842) |##################| Elapsed Time: 0:00:08 Time:  0:00:08\n"
     ]
    },
    {
     "name": "stdout",
     "output_type": "stream",
     "text": [
      "---- done processing TAGS - burlesque 53 - Archive.tsv - report: -----\n",
      "- 117 empty rows encountered.\n",
      "- Unable to interpret 69 rows.\n",
      "\n",
      "\n",
      "- 0 tweets saved from Twitter.\n",
      "- 0 tweets saved from TAGS.\n",
      "\n",
      "\n",
      "Reading TAGS - burlesque 6 - Archive.tsv...\n"
     ]
    },
    {
     "name": "stderr",
     "output_type": "stream",
     "text": [
      "100% (117661 of 117661) |################| Elapsed Time: 0:00:10 Time:  0:00:10\n"
     ]
    },
    {
     "name": "stdout",
     "output_type": "stream",
     "text": [
      "---- done processing TAGS - burlesque 6 - Archive.tsv - report: -----\n",
      "- 0 empty rows encountered.\n",
      "- Unable to interpret 7 rows.\n",
      "\n",
      "\n",
      "- 0 tweets saved from Twitter.\n",
      "- 0 tweets saved from TAGS.\n",
      "\n",
      "\n",
      "Reading TAGS - burlesque 57 - Archive.tsv...\n"
     ]
    },
    {
     "name": "stderr",
     "output_type": "stream",
     "text": [
      "100% (53927 of 53927) |##################| Elapsed Time: 0:00:06 Time:  0:00:06\n"
     ]
    },
    {
     "name": "stdout",
     "output_type": "stream",
     "text": [
      "---- done processing TAGS - burlesque 57 - Archive.tsv - report: -----\n",
      "- 45 empty rows encountered.\n",
      "- Unable to interpret 66 rows.\n",
      "\n",
      "\n",
      "- 0 tweets saved from Twitter.\n",
      "- 0 tweets saved from TAGS.\n",
      "\n",
      "\n",
      "Reading TAGS - burlesque 40 - Archive.tsv...\n"
     ]
    },
    {
     "name": "stderr",
     "output_type": "stream",
     "text": [
      "100% (44846 of 44846) |##################| Elapsed Time: 0:00:05 Time:  0:00:05\n"
     ]
    },
    {
     "name": "stdout",
     "output_type": "stream",
     "text": [
      "---- done processing TAGS - burlesque 40 - Archive.tsv - report: -----\n",
      "- 69 empty rows encountered.\n",
      "- Unable to interpret 204 rows.\n",
      "\n",
      "\n",
      "- 0 tweets saved from Twitter.\n",
      "- 0 tweets saved from TAGS.\n",
      "\n",
      "\n",
      "Reading TAGS - burlesque 23 - Archive.tsv...\n"
     ]
    },
    {
     "name": "stderr",
     "output_type": "stream",
     "text": []
    },
    {
     "name": "stderr",
     "output_type": "stream",
     "text": [
      "100% (50623 of 50623) |##################| Elapsed Time: 0:00:05 Time:  0:00:05\n"
     ]
    },
    {
     "name": "stdout",
     "output_type": "stream",
     "text": [
      "---- done processing TAGS - burlesque 23 - Archive.tsv - report: -----\n",
      "- 46 empty rows encountered.\n",
      "- Unable to interpret 11 rows.\n",
      "\n",
      "\n",
      "- 0 tweets saved from Twitter.\n",
      "- 0 tweets saved from TAGS.\n",
      "\n",
      "\n",
      "Reading TAGS - burlesque 30 - Archive.tsv...\n"
     ]
    },
    {
     "name": "stderr",
     "output_type": "stream",
     "text": [
      "100% (53126 of 53126) |##################| Elapsed Time: 0:00:05 Time:  0:00:05\n"
     ]
    },
    {
     "name": "stdout",
     "output_type": "stream",
     "text": [
      "---- done processing TAGS - burlesque 30 - Archive.tsv - report: -----\n",
      "- 82 empty rows encountered.\n",
      "- Unable to interpret 0 rows.\n",
      "\n",
      "\n",
      "- 0 tweets saved from Twitter.\n",
      "- 0 tweets saved from TAGS.\n",
      "\n",
      "\n",
      "Reading TAGS - burlesque 27 - Archive.tsv...\n"
     ]
    },
    {
     "name": "stderr",
     "output_type": "stream",
     "text": [
      "100% (52794 of 52794) |##################| Elapsed Time: 0:00:05 Time:  0:00:05\n"
     ]
    },
    {
     "name": "stdout",
     "output_type": "stream",
     "text": [
      "---- done processing TAGS - burlesque 27 - Archive.tsv - report: -----\n",
      "- 37 empty rows encountered.\n",
      "- Unable to interpret 1 rows.\n",
      "\n",
      "\n",
      "- 0 tweets saved from Twitter.\n",
      "- 0 tweets saved from TAGS.\n",
      "\n",
      "\n",
      "Reading TAGS - burlesque 19 - Archive.tsv...\n"
     ]
    },
    {
     "name": "stderr",
     "output_type": "stream",
     "text": [
      "100% (50265 of 50265) |##################| Elapsed Time: 0:00:05 Time:  0:00:05\n"
     ]
    },
    {
     "name": "stdout",
     "output_type": "stream",
     "text": [
      "---- done processing TAGS - burlesque 19 - Archive.tsv - report: -----\n",
      "- 39 empty rows encountered.\n",
      "- Unable to interpret 0 rows.\n",
      "\n",
      "\n",
      "- 0 tweets saved from Twitter.\n",
      "- 0 tweets saved from TAGS.\n",
      "\n",
      "\n",
      "Reading TAGS - burlesque 37 - Archive.tsv...\n"
     ]
    },
    {
     "name": "stderr",
     "output_type": "stream",
     "text": [
      "100% (47124 of 47124) |##################| Elapsed Time: 0:00:05 Time:  0:00:05\n"
     ]
    },
    {
     "name": "stdout",
     "output_type": "stream",
     "text": [
      "---- done processing TAGS - burlesque 37 - Archive.tsv - report: -----\n",
      "- 99 empty rows encountered.\n",
      "- Unable to interpret 0 rows.\n",
      "\n",
      "\n",
      "- 0 tweets saved from Twitter.\n",
      "- 0 tweets saved from TAGS.\n",
      "\n",
      "\n",
      "Reading TAGS - burlesque 20 - Archive.tsv...\n"
     ]
    },
    {
     "name": "stderr",
     "output_type": "stream",
     "text": [
      "100% (45062 of 45062) |##################| Elapsed Time: 0:00:03 Time:  0:00:03\n"
     ]
    },
    {
     "name": "stdout",
     "output_type": "stream",
     "text": [
      "---- done processing TAGS - burlesque 20 - Archive.tsv - report: -----\n",
      "- 1 empty rows encountered.\n",
      "- Unable to interpret 0 rows.\n",
      "\n",
      "\n",
      "- 0 tweets saved from Twitter.\n",
      "- 0 tweets saved from TAGS.\n",
      "\n",
      "\n",
      "Reading TAGS - burlesque 24 - Archive.tsv...\n"
     ]
    },
    {
     "name": "stderr",
     "output_type": "stream",
     "text": [
      "100% (50305 of 50305) |##################| Elapsed Time: 0:00:04 Time:  0:00:04\n"
     ]
    },
    {
     "name": "stdout",
     "output_type": "stream",
     "text": [
      "---- done processing TAGS - burlesque 24 - Archive.tsv - report: -----\n",
      "- 82 empty rows encountered.\n",
      "- Unable to interpret 4 rows.\n",
      "\n",
      "\n",
      "- 0 tweets saved from Twitter.\n",
      "- 0 tweets saved from TAGS.\n",
      "\n",
      "\n",
      "Reading TAGS - burlesque 33 - Archive.tsv...\n"
     ]
    },
    {
     "name": "stderr",
     "output_type": "stream",
     "text": []
    },
    {
     "name": "stderr",
     "output_type": "stream",
     "text": [
      "100% (63836 of 63836) |##################| Elapsed Time: 0:00:05 Time:  0:00:05\n"
     ]
    },
    {
     "name": "stdout",
     "output_type": "stream",
     "text": [
      "---- done processing TAGS - burlesque 33 - Archive.tsv - report: -----\n",
      "- 10395 empty rows encountered.\n",
      "- Unable to interpret 8 rows.\n",
      "\n",
      "\n",
      "- 0 tweets saved from Twitter.\n",
      "- 0 tweets saved from TAGS.\n",
      "\n",
      "\n",
      "Reading TAGS - burlesque 34 (2) - Archive.tsv...\n"
     ]
    },
    {
     "name": "stderr",
     "output_type": "stream",
     "text": [
      "100% (54244 of 54244) |##################| Elapsed Time: 0:00:04 Time:  0:00:04\n"
     ]
    },
    {
     "name": "stdout",
     "output_type": "stream",
     "text": [
      "---- done processing TAGS - burlesque 34 (2) - Archive.tsv - report: -----\n",
      "- 98 empty rows encountered.\n",
      "- Unable to interpret 6 rows.\n",
      "\n",
      "\n",
      "- 0 tweets saved from Twitter.\n",
      "- 0 tweets saved from TAGS.\n",
      "\n",
      "\n",
      "Reading TAGS - burlesque 1 - Archive.tsv...\n"
     ]
    },
    {
     "name": "stderr",
     "output_type": "stream",
     "text": []
    },
    {
     "name": "stderr",
     "output_type": "stream",
     "text": []
    },
    {
     "name": "stderr",
     "output_type": "stream",
     "text": [
      "100% (84122 of 84122) |##################| Elapsed Time: 0:00:12 Time:  0:00:12\n"
     ]
    },
    {
     "name": "stdout",
     "output_type": "stream",
     "text": [
      "---- done processing TAGS - burlesque 1 - Archive.tsv - report: -----\n",
      "- 346 empty rows encountered.\n",
      "- Unable to interpret 27 rows.\n",
      "\n",
      "\n",
      "- 0 tweets saved from Twitter.\n",
      "- 0 tweets saved from TAGS.\n",
      "\n",
      "\n",
      "Reading TAGS - burlesque 50 - Archive.tsv...\n"
     ]
    },
    {
     "name": "stderr",
     "output_type": "stream",
     "text": [
      "100% (39771 of 39771) |##################| Elapsed Time: 0:00:06 Time:  0:00:06\n"
     ]
    },
    {
     "name": "stdout",
     "output_type": "stream",
     "text": [
      "---- done processing TAGS - burlesque 50 - Archive.tsv - report: -----\n",
      "- 0 empty rows encountered.\n",
      "- Unable to interpret 46 rows.\n",
      "\n",
      "\n",
      "- 0 tweets saved from Twitter.\n",
      "- 0 tweets saved from TAGS.\n",
      "\n",
      "\n",
      "Reading TAGS - burlesque 47 - Archive.tsv...\n"
     ]
    },
    {
     "name": "stderr",
     "output_type": "stream",
     "text": []
    },
    {
     "name": "stderr",
     "output_type": "stream",
     "text": [
      "100% (43037 of 43037) |##################| Elapsed Time: 0:00:05 Time:  0:00:05\n"
     ]
    },
    {
     "name": "stdout",
     "output_type": "stream",
     "text": [
      "---- done processing TAGS - burlesque 47 - Archive.tsv - report: -----\n",
      "- 48 empty rows encountered.\n",
      "- Unable to interpret 174 rows.\n",
      "\n",
      "\n",
      "- 0 tweets saved from Twitter.\n",
      "- 0 tweets saved from TAGS.\n",
      "\n",
      "\n",
      "Reading TAGS - burlesque 5 - Archive.tsv...\n"
     ]
    },
    {
     "name": "stderr",
     "output_type": "stream",
     "text": []
    },
    {
     "name": "stderr",
     "output_type": "stream",
     "text": []
    },
    {
     "name": "stderr",
     "output_type": "stream",
     "text": []
    },
    {
     "name": "stderr",
     "output_type": "stream",
     "text": [
      "100% (117559 of 117559) |################| Elapsed Time: 0:00:11 Time:  0:00:11\n"
     ]
    },
    {
     "name": "stdout",
     "output_type": "stream",
     "text": [
      "---- done processing TAGS - burlesque 5 - Archive.tsv - report: -----\n",
      "- 0 empty rows encountered.\n",
      "- Unable to interpret 17 rows.\n",
      "\n",
      "\n",
      "- 0 tweets saved from Twitter.\n",
      "- 0 tweets saved from TAGS.\n",
      "\n",
      "\n",
      "Reading TAGS - burlesque 43 - Archive.tsv...\n"
     ]
    },
    {
     "name": "stderr",
     "output_type": "stream",
     "text": [
      "100% (44820 of 44820) |##################| Elapsed Time: 0:00:05 Time:  0:00:05\n"
     ]
    },
    {
     "name": "stdout",
     "output_type": "stream",
     "text": [
      "---- done processing TAGS - burlesque 43 - Archive.tsv - report: -----\n",
      "- 44 empty rows encountered.\n",
      "- Unable to interpret 56 rows.\n",
      "\n",
      "\n",
      "- 0 tweets saved from Twitter.\n",
      "- 0 tweets saved from TAGS.\n",
      "\n",
      "\n",
      "Reading TAGS - burlesque 54 - Archive.tsv...\n"
     ]
    },
    {
     "name": "stderr",
     "output_type": "stream",
     "text": [
      "100% (55478 of 55478) |##################| Elapsed Time: 0:00:06 Time:  0:00:06\n"
     ]
    },
    {
     "name": "stdout",
     "output_type": "stream",
     "text": [
      "---- done processing TAGS - burlesque 54 - Archive.tsv - report: -----\n",
      "- 0 empty rows encountered.\n",
      "- Unable to interpret 116 rows.\n",
      "\n",
      "\n",
      "- 0 tweets saved from Twitter.\n",
      "- 0 tweets saved from TAGS.\n",
      "\n",
      "\n",
      "Reading TAGS - burlesque 32 - Archive.tsv...\n"
     ]
    },
    {
     "name": "stderr",
     "output_type": "stream",
     "text": [
      "100% (59200 of 59200) |##################| Elapsed Time: 0:00:05 Time:  0:00:05\n"
     ]
    },
    {
     "name": "stdout",
     "output_type": "stream",
     "text": [
      "---- done processing TAGS - burlesque 32 - Archive.tsv - report: -----\n",
      "- 342 empty rows encountered.\n",
      "- Unable to interpret 4 rows.\n",
      "\n",
      "\n",
      "- 0 tweets saved from Twitter.\n",
      "- 0 tweets saved from TAGS.\n",
      "\n",
      "\n",
      "Reading TAGS - burlesque 25 - Archive.tsv...\n"
     ]
    },
    {
     "name": "stderr",
     "output_type": "stream",
     "text": [
      "100% (49488 of 49488) |##################| Elapsed Time: 0:00:05 Time:  0:00:05\n"
     ]
    },
    {
     "name": "stdout",
     "output_type": "stream",
     "text": [
      "---- done processing TAGS - burlesque 25 - Archive.tsv - report: -----\n",
      "- 0 empty rows encountered.\n",
      "- Unable to interpret 10 rows.\n",
      "\n",
      "\n",
      "- 0 tweets saved from Twitter.\n",
      "- 0 tweets saved from TAGS.\n",
      "\n",
      "\n",
      "Reading TAGS - burlesque 21 - Archive.tsv...\n"
     ]
    },
    {
     "name": "stderr",
     "output_type": "stream",
     "text": [
      "100% (53083 of 53083) |##################| Elapsed Time: 0:00:06 Time:  0:00:06\n"
     ]
    },
    {
     "name": "stdout",
     "output_type": "stream",
     "text": [
      "---- done processing TAGS - burlesque 21 - Archive.tsv - report: -----\n",
      "- 109 empty rows encountered.\n",
      "- Unable to interpret 3 rows.\n",
      "\n",
      "\n",
      "- 0 tweets saved from Twitter.\n",
      "- 0 tweets saved from TAGS.\n",
      "\n",
      "\n",
      "Reading TAGS - burlesque 36 - Archive.tsv...\n"
     ]
    },
    {
     "name": "stderr",
     "output_type": "stream",
     "text": [
      "100% (57805 of 57805) |##################| Elapsed Time: 0:00:06 Time:  0:00:06\n"
     ]
    },
    {
     "name": "stdout",
     "output_type": "stream",
     "text": [
      "---- done processing TAGS - burlesque 36 - Archive.tsv - report: -----\n",
      "- 128 empty rows encountered.\n",
      "- Unable to interpret 4 rows.\n",
      "\n",
      "\n",
      "- 0 tweets saved from Twitter.\n",
      "- 0 tweets saved from TAGS.\n",
      "\n",
      "\n",
      "Reading TAGS - burlesque 18 - Archive.tsv...\n"
     ]
    },
    {
     "name": "stderr",
     "output_type": "stream",
     "text": []
    },
    {
     "name": "stderr",
     "output_type": "stream",
     "text": [
      "100% (48175 of 48175) |##################| Elapsed Time: 0:00:06 Time:  0:00:06\n"
     ]
    },
    {
     "name": "stdout",
     "output_type": "stream",
     "text": [
      "---- done processing TAGS - burlesque 18 - Archive.tsv - report: -----\n",
      "- 56 empty rows encountered.\n",
      "- Unable to interpret 2 rows.\n",
      "\n",
      "\n",
      "- 0 tweets saved from Twitter.\n",
      "- 0 tweets saved from TAGS.\n",
      "\n",
      "\n",
      "Reading TAGS - burlesque 55 - Archive.tsv...\n"
     ]
    },
    {
     "name": "stderr",
     "output_type": "stream",
     "text": [
      "100% (53581 of 53581) |##################| Elapsed Time: 0:00:06 Time:  0:00:06\n"
     ]
    },
    {
     "name": "stdout",
     "output_type": "stream",
     "text": [
      "---- done processing TAGS - burlesque 55 - Archive.tsv - report: -----\n",
      "- 50 empty rows encountered.\n",
      "- Unable to interpret 0 rows.\n",
      "\n",
      "\n",
      "- 0 tweets saved from Twitter.\n",
      "- 0 tweets saved from TAGS.\n",
      "\n",
      "\n",
      "Reading TAGS - burlesque 42 - Archive.tsv...\n"
     ]
    },
    {
     "name": "stderr",
     "output_type": "stream",
     "text": [
      "100% (45291 of 45291) |##################| Elapsed Time: 0:00:04 Time:  0:00:04\n"
     ]
    },
    {
     "name": "stdout",
     "output_type": "stream",
     "text": [
      "---- done processing TAGS - burlesque 42 - Archive.tsv - report: -----\n",
      "- 80 empty rows encountered.\n",
      "- Unable to interpret 87 rows.\n",
      "\n",
      "\n",
      "- 0 tweets saved from Twitter.\n",
      "- 0 tweets saved from TAGS.\n",
      "\n",
      "\n",
      "Reading TAGS - burlesque 4 - Archive.tsv...\n"
     ]
    },
    {
     "name": "stderr",
     "output_type": "stream",
     "text": []
    },
    {
     "name": "stderr",
     "output_type": "stream",
     "text": []
    },
    {
     "name": "stderr",
     "output_type": "stream",
     "text": []
    },
    {
     "name": "stderr",
     "output_type": "stream",
     "text": [
      "100% (117617 of 117617) |################| Elapsed Time: 0:00:11 Time:  0:00:11\n"
     ]
    },
    {
     "name": "stdout",
     "output_type": "stream",
     "text": [
      "---- done processing TAGS - burlesque 4 - Archive.tsv - report: -----\n",
      "- 370 empty rows encountered.\n",
      "- Unable to interpret 18 rows.\n",
      "\n",
      "\n",
      "- 0 tweets saved from Twitter.\n",
      "- 0 tweets saved from TAGS.\n",
      "\n",
      "\n",
      "Reading TAGS - burlesque 46 - Archive.tsv...\n"
     ]
    },
    {
     "name": "stderr",
     "output_type": "stream",
     "text": [
      "100% (43045 of 43045) |##################| Elapsed Time: 0:00:05 Time:  0:00:05\n"
     ]
    },
    {
     "name": "stdout",
     "output_type": "stream",
     "text": [
      "---- done processing TAGS - burlesque 46 - Archive.tsv - report: -----\n",
      "- 0 empty rows encountered.\n",
      "- Unable to interpret 42 rows.\n",
      "\n",
      "\n",
      "- 0 tweets saved from Twitter.\n",
      "- 0 tweets saved from TAGS.\n",
      "\n",
      "\n",
      "Reading TAGS - burlesque 51 - Archive.tsv...\n"
     ]
    },
    {
     "name": "stderr",
     "output_type": "stream",
     "text": []
    },
    {
     "name": "stderr",
     "output_type": "stream",
     "text": [
      "100% (41059 of 41059) |##################| Elapsed Time: 0:00:05 Time:  0:00:05\n"
     ]
    },
    {
     "name": "stdout",
     "output_type": "stream",
     "text": [
      "---- done processing TAGS - burlesque 51 - Archive.tsv - report: -----\n",
      "- 90 empty rows encountered.\n",
      "- Unable to interpret 47 rows.\n",
      "\n",
      "\n",
      "- 0 tweets saved from Twitter.\n",
      "- 0 tweets saved from TAGS.\n",
      "\n",
      "\n",
      "Reading TAGS - burlesque 41 - Archive.tsv...\n"
     ]
    },
    {
     "name": "stderr",
     "output_type": "stream",
     "text": [
      "100% (45423 of 45423) |##################| Elapsed Time: 0:00:05 Time:  0:00:05\n"
     ]
    },
    {
     "name": "stdout",
     "output_type": "stream",
     "text": [
      "---- done processing TAGS - burlesque 41 - Archive.tsv - report: -----\n",
      "- 93 empty rows encountered.\n",
      "- Unable to interpret 80 rows.\n",
      "\n",
      "\n",
      "- 0 tweets saved from Twitter.\n",
      "- 0 tweets saved from TAGS.\n",
      "\n",
      "\n",
      "Reading TAGS - burlesque 56 - Archive.tsv...\n"
     ]
    },
    {
     "name": "stderr",
     "output_type": "stream",
     "text": []
    },
    {
     "name": "stderr",
     "output_type": "stream",
     "text": []
    },
    {
     "name": "stderr",
     "output_type": "stream",
     "text": []
    },
    {
     "name": "stderr",
     "output_type": "stream",
     "text": []
    },
    {
     "name": "stderr",
     "output_type": "stream",
     "text": []
    },
    {
     "name": "stderr",
     "output_type": "stream",
     "text": []
    },
    {
     "name": "stderr",
     "output_type": "stream",
     "text": [
      "100% (51358 of 51358) |##################| Elapsed Time: 0:00:08 Time:  0:00:08\n"
     ]
    },
    {
     "name": "stdout",
     "output_type": "stream",
     "text": [
      "---- done processing TAGS - burlesque 56 - Archive.tsv - report: -----\n",
      "- 66 empty rows encountered.\n",
      "- Unable to interpret 75 rows.\n",
      "\n",
      "\n",
      "- 0 tweets saved from Twitter.\n",
      "- 0 tweets saved from TAGS.\n",
      "\n",
      "\n",
      "Reading TAGS - burlesque 7 - Archive.tsv...\n"
     ]
    },
    {
     "name": "stderr",
     "output_type": "stream",
     "text": []
    },
    {
     "name": "stderr",
     "output_type": "stream",
     "text": [
      "100% (117610 of 117610) |################| Elapsed Time: 0:00:13 Time:  0:00:13\n"
     ]
    },
    {
     "name": "stdout",
     "output_type": "stream",
     "text": [
      "---- done processing TAGS - burlesque 7 - Archive.tsv - report: -----\n",
      "- 0 empty rows encountered.\n",
      "- Unable to interpret 53 rows.\n",
      "\n",
      "\n",
      "- 0 tweets saved from Twitter.\n",
      "- 0 tweets saved from TAGS.\n",
      "\n",
      "\n",
      "Reading TAGS - burlesque 52 - Archive.tsv...\n"
     ]
    },
    {
     "name": "stderr",
     "output_type": "stream",
     "text": [
      "100% (51130 of 51130) |##################| Elapsed Time: 0:00:05 Time:  0:00:05\n"
     ]
    },
    {
     "name": "stdout",
     "output_type": "stream",
     "text": [
      "---- done processing TAGS - burlesque 52 - Archive.tsv - report: -----\n",
      "- 54 empty rows encountered.\n",
      "- Unable to interpret 2 rows.\n",
      "\n",
      "\n",
      "- 0 tweets saved from Twitter.\n",
      "- 0 tweets saved from TAGS.\n",
      "\n",
      "\n",
      "Reading TAGS - burlesque 45 - Archive.tsv...\n"
     ]
    },
    {
     "name": "stderr",
     "output_type": "stream",
     "text": [
      "100% (50142 of 50142) |##################| Elapsed Time: 0:00:06 Time:  0:00:06\n"
     ]
    },
    {
     "name": "stdout",
     "output_type": "stream",
     "text": [
      "---- done processing TAGS - burlesque 45 - Archive.tsv - report: -----\n",
      "- 119 empty rows encountered.\n",
      "- Unable to interpret 11 rows.\n",
      "\n",
      "\n",
      "- 0 tweets saved from Twitter.\n",
      "- 0 tweets saved from TAGS.\n",
      "\n",
      "\n",
      "Reading TAGS - burlesque 3 - Archive.tsv...\n"
     ]
    },
    {
     "name": "stderr",
     "output_type": "stream",
     "text": []
    },
    {
     "name": "stderr",
     "output_type": "stream",
     "text": []
    },
    {
     "name": "stderr",
     "output_type": "stream",
     "text": []
    },
    {
     "name": "stderr",
     "output_type": "stream",
     "text": []
    },
    {
     "name": "stderr",
     "output_type": "stream",
     "text": [
      "100% (117450 of 117450) |################| Elapsed Time: 0:00:11 Time:  0:00:11\n"
     ]
    },
    {
     "name": "stdout",
     "output_type": "stream",
     "text": [
      "---- done processing TAGS - burlesque 3 - Archive.tsv - report: -----\n",
      "- 1 empty rows encountered.\n",
      "- Unable to interpret 7 rows.\n",
      "\n",
      "\n",
      "- 0 tweets saved from Twitter.\n",
      "- 0 tweets saved from TAGS.\n",
      "\n",
      "\n",
      "Reading TAGS - burlesque 26 - Archive.tsv...\n"
     ]
    },
    {
     "name": "stderr",
     "output_type": "stream",
     "text": []
    },
    {
     "name": "stderr",
     "output_type": "stream",
     "text": [
      "100% (47482 of 47482) |##################| Elapsed Time: 0:00:05 Time:  0:00:05\n"
     ]
    },
    {
     "name": "stdout",
     "output_type": "stream",
     "text": [
      "---- done processing TAGS - burlesque 26 - Archive.tsv - report: -----\n",
      "- 0 empty rows encountered.\n",
      "- Unable to interpret 5 rows.\n",
      "\n",
      "\n",
      "- 0 tweets saved from Twitter.\n",
      "- 0 tweets saved from TAGS.\n",
      "\n",
      "\n",
      "Reading TAGS - burlesque 31 - Archive.tsv...\n"
     ]
    },
    {
     "name": "stderr",
     "output_type": "stream",
     "text": [
      "100% (52269 of 52269) |##################| Elapsed Time: 0:00:05 Time:  0:00:05\n"
     ]
    },
    {
     "name": "stdout",
     "output_type": "stream",
     "text": [
      "---- done processing TAGS - burlesque 31 - Archive.tsv - report: -----\n",
      "- 115 empty rows encountered.\n",
      "- Unable to interpret 20 rows.\n",
      "\n",
      "\n",
      "- 0 tweets saved from Twitter.\n",
      "- 0 tweets saved from TAGS.\n",
      "\n",
      "\n",
      "Reading TAGS - burlesque 35 - Archive.tsv...\n"
     ]
    },
    {
     "name": "stderr",
     "output_type": "stream",
     "text": []
    },
    {
     "name": "stderr",
     "output_type": "stream",
     "text": [
      "100% (55924 of 55924) |##################| Elapsed Time: 0:00:06 Time:  0:00:06\n"
     ]
    },
    {
     "name": "stdout",
     "output_type": "stream",
     "text": [
      "---- done processing TAGS - burlesque 35 - Archive.tsv - report: -----\n",
      "- 92 empty rows encountered.\n",
      "- Unable to interpret 4 rows.\n",
      "\n",
      "\n",
      "- 0 tweets saved from Twitter.\n",
      "- 0 tweets saved from TAGS.\n",
      "\n",
      "\n",
      "Reading TAGS - burlesque 22 - Archive.tsv...\n"
     ]
    },
    {
     "name": "stderr",
     "output_type": "stream",
     "text": [
      "100% (51390 of 51390) |##################| Elapsed Time: 0:00:05 Time:  0:00:05\n"
     ]
    },
    {
     "name": "stdout",
     "output_type": "stream",
     "text": [
      "---- done processing TAGS - burlesque 22 - Archive.tsv - report: -----\n",
      "- 34 empty rows encountered.\n",
      "- Unable to interpret 1 rows.\n",
      "\n",
      "\n",
      "- 0 tweets saved from Twitter.\n",
      "- 0 tweets saved from TAGS.\n",
      "\n",
      "\n",
      "Reading TAGS - burlesque 28 - Archive.tsv...\n"
     ]
    },
    {
     "name": "stderr",
     "output_type": "stream",
     "text": [
      "100% (53951 of 53951) |##################| Elapsed Time: 0:00:05 Time:  0:00:05\n"
     ]
    },
    {
     "name": "stdout",
     "output_type": "stream",
     "text": [
      "---- done processing TAGS - burlesque 28 - Archive.tsv - report: -----\n",
      "- 167 empty rows encountered.\n",
      "- Unable to interpret 0 rows.\n",
      "\n",
      "\n",
      "- 0 tweets saved from Twitter.\n",
      "- 0 tweets saved from TAGS.\n",
      "\n",
      "\n",
      "Reading TAGS - burlesque 11 - Archive.tsv...\n"
     ]
    },
    {
     "name": "stderr",
     "output_type": "stream",
     "text": []
    },
    {
     "name": "stderr",
     "output_type": "stream",
     "text": [
      "100% (117652 of 117652) |################| Elapsed Time: 0:00:14 Time:  0:00:14\n"
     ]
    },
    {
     "name": "stdout",
     "output_type": "stream",
     "text": [
      "---- done processing TAGS - burlesque 11 - Archive.tsv - report: -----\n",
      "- 1361 empty rows encountered.\n",
      "- Unable to interpret 32 rows.\n",
      "\n",
      "\n",
      "- 0 tweets saved from Twitter.\n",
      "- 0 tweets saved from TAGS.\n",
      "\n",
      "\n",
      "Reading TAGS - burlesque 15 - Archive.tsv...\n"
     ]
    },
    {
     "name": "stderr",
     "output_type": "stream",
     "text": [
      "100% (48996 of 48996) |##################| Elapsed Time: 0:00:05 Time:  0:00:05\n"
     ]
    },
    {
     "name": "stdout",
     "output_type": "stream",
     "text": [
      "---- done processing TAGS - burlesque 15 - Archive.tsv - report: -----\n",
      "- 52 empty rows encountered.\n",
      "- Unable to interpret 5 rows.\n",
      "\n",
      "\n",
      "- 0 tweets saved from Twitter.\n",
      "- 0 tweets saved from TAGS.\n",
      "\n",
      "\n",
      "Reading TAGS - burlesque 58 - Archive.tsv...\n"
     ]
    },
    {
     "name": "stderr",
     "output_type": "stream",
     "text": [
      "100% (38235 of 38235) |##################| Elapsed Time: 0:00:04 Time:  0:00:04\n"
     ]
    },
    {
     "name": "stdout",
     "output_type": "stream",
     "text": [
      "---- done processing TAGS - burlesque 58 - Archive.tsv - report: -----\n",
      "- 63 empty rows encountered.\n",
      "- Unable to interpret 0 rows.\n",
      "\n",
      "\n",
      "- 0 tweets saved from Twitter.\n",
      "- 0 tweets saved from TAGS.\n",
      "\n",
      "\n",
      "Reading TAGS - burlesque 9 - Archive.tsv...\n"
     ]
    },
    {
     "name": "stderr",
     "output_type": "stream",
     "text": [
      "100% (117763 of 117763) |################| Elapsed Time: 0:00:10 Time:  0:00:10\n"
     ]
    },
    {
     "name": "stdout",
     "output_type": "stream",
     "text": [
      "---- done processing TAGS - burlesque 9 - Archive.tsv - report: -----\n",
      "- 0 empty rows encountered.\n",
      "- Unable to interpret 113 rows.\n",
      "\n",
      "\n",
      "- 0 tweets saved from Twitter.\n",
      "- 0 tweets saved from TAGS.\n",
      "\n",
      "\n",
      "Reading TAGS - burlesque 38 (?) - Archive.tsv...\n"
     ]
    },
    {
     "name": "stderr",
     "output_type": "stream",
     "text": [
      "100% (42750 of 42750) |##################| Elapsed Time: 0:00:04 Time:  0:00:04\n"
     ]
    },
    {
     "name": "stdout",
     "output_type": "stream",
     "text": [
      "---- done processing TAGS - burlesque 38 (?) - Archive.tsv - report: -----\n",
      "- 58 empty rows encountered.\n",
      "- Unable to interpret 1 rows.\n",
      "\n",
      "\n",
      "- 0 tweets saved from Twitter.\n",
      "- 0 tweets saved from TAGS.\n",
      "\n",
      "\n",
      "Reading TAGS - burlesque 48 - Archive.tsv...\n"
     ]
    },
    {
     "name": "stderr",
     "output_type": "stream",
     "text": [
      "100% (42870 of 42870) |##################| Elapsed Time: 0:00:05 Time:  0:00:05\n"
     ]
    },
    {
     "name": "stdout",
     "output_type": "stream",
     "text": [
      "---- done processing TAGS - burlesque 48 - Archive.tsv - report: -----\n",
      "- 40 empty rows encountered.\n",
      "- Unable to interpret 71 rows.\n",
      "\n",
      "\n",
      "- 0 tweets saved from Twitter.\n",
      "- 0 tweets saved from TAGS.\n",
      "\n",
      "\n",
      "Reading TAGS - burlesque 12 - Archive.tsv...\n"
     ]
    },
    {
     "name": "stderr",
     "output_type": "stream",
     "text": [
      "100% (117636 of 117636) |################| Elapsed Time: 0:00:11 Time:  0:00:11\n"
     ]
    },
    {
     "name": "stdout",
     "output_type": "stream",
     "text": [
      "---- done processing TAGS - burlesque 12 - Archive.tsv - report: -----\n",
      "- 1281 empty rows encountered.\n",
      "- Unable to interpret 35 rows.\n",
      "\n",
      "\n",
      "- 0 tweets saved from Twitter.\n",
      "- 0 tweets saved from TAGS.\n",
      "\n",
      "\n",
      "Reading TAGS - burlesque 16 - Archive.tsv...\n"
     ]
    },
    {
     "name": "stderr",
     "output_type": "stream",
     "text": [
      "100% (47044 of 47044) |##################| Elapsed Time: 0:00:04 Time:  0:00:04\n"
     ]
    },
    {
     "name": "stdout",
     "output_type": "stream",
     "text": [
      "---- done processing TAGS - burlesque 16 - Archive.tsv - report: -----\n",
      "- 14 empty rows encountered.\n",
      "- Unable to interpret 2 rows.\n",
      "\n",
      "\n",
      "- 0 tweets saved from Twitter.\n",
      "- 0 tweets saved from TAGS.\n",
      "\n",
      "\n"
     ]
    }
   ],
   "source": [
    "expand_tags_tsv('../../datasets/tags-tsv/burlesque/', _filter=True, filter_field=\"full_text\", filter_value=\"burlesque\", done=['TAGS - burlesque 60 - Archive.tsv'])"
   ]
  },
  {
   "cell_type": "code",
   "execution_count": null,
   "metadata": {},
   "outputs": [],
   "source": []
  },
  {
   "cell_type": "code",
   "execution_count": null,
   "metadata": {},
   "outputs": [],
   "source": []
  },
  {
   "cell_type": "code",
   "execution_count": null,
   "metadata": {},
   "outputs": [],
   "source": []
  },
  {
   "cell_type": "code",
   "execution_count": null,
   "metadata": {},
   "outputs": [],
   "source": []
  },
  {
   "cell_type": "code",
   "execution_count": null,
   "metadata": {},
   "outputs": [],
   "source": []
  },
  {
   "cell_type": "code",
   "execution_count": null,
   "metadata": {},
   "outputs": [],
   "source": []
  },
  {
   "cell_type": "code",
   "execution_count": null,
   "metadata": {},
   "outputs": [],
   "source": []
  },
  {
   "cell_type": "code",
   "execution_count": null,
   "metadata": {},
   "outputs": [],
   "source": []
  },
  {
   "cell_type": "code",
   "execution_count": null,
   "metadata": {},
   "outputs": [],
   "source": []
  },
  {
   "cell_type": "code",
   "execution_count": null,
   "metadata": {},
   "outputs": [],
   "source": []
  },
  {
   "cell_type": "code",
   "execution_count": null,
   "metadata": {},
   "outputs": [],
   "source": [
    "expand_tags_tsv('../../datasets/tags-tsv/male striptease/')\n",
    "expand_tags_tsv('../../datasets/tags-tsv/boy-lesque/')\n",
    "expand_tags_tsv('../../datasets/tags-tsv/male burlesque/')\n",
    "expand_tags_tsv('../../datasets/tags-tsv/boylesque/')\n",
    "expand_tags_tsv('../../datasets/tags-tsv/burlesk OR burleycue OR burly-q/')"
   ]
  }
 ],
 "metadata": {
  "kernelspec": {
   "display_name": "Python 3",
   "language": "python",
   "name": "python3"
  },
  "language_info": {
   "codemirror_mode": {
    "name": "ipython",
    "version": 3
   },
   "file_extension": ".py",
   "mimetype": "text/x-python",
   "name": "python",
   "nbconvert_exporter": "python",
   "pygments_lexer": "ipython3",
   "version": "3.7.1"
  }
 },
 "nbformat": 4,
 "nbformat_minor": 2
}
