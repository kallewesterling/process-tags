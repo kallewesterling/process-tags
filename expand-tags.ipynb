{
 "cells": [
  {
   "cell_type": "code",
   "execution_count": 82,
   "metadata": {},
   "outputs": [],
   "source": [
    "from pprint import pprint\n",
    "import json, string\n",
    "import csv\n",
    "import tweepy\n",
    "import yaml\n",
    "import time\n",
    "\n",
    "from pathlib import Path\n",
    "from time import sleep\n",
    "import progressbar\n",
    "import re\n",
    "\n",
    "from nltk.corpus import stopwords"
   ]
  },
  {
   "cell_type": "code",
   "execution_count": null,
   "metadata": {},
   "outputs": [],
   "source": []
  },
  {
   "cell_type": "code",
   "execution_count": 3,
   "metadata": {},
   "outputs": [],
   "source": [
    "# Set up cache directories\n",
    "tweet_cache_dir = Path('/Users/kallewesterling/_twitter_cache/tweets/')\n",
    "user_cache_dir = Path('/Users/kallewesterling/_twitter_cache/users/')\n",
    "\n",
    "if not tweet_cache_dir.is_dir(): tweet_cache_dir.mkdir(parents=True)\n",
    "if not user_cache_dir.is_dir(): user_cache_dir.mkdir(parents=True)"
   ]
  },
  {
   "cell_type": "code",
   "execution_count": 4,
   "metadata": {},
   "outputs": [],
   "source": [
    "# Set up tweepy\n",
    "class _TwitterCredentials():\n",
    "\n",
    "    def __init__(self):\n",
    "        with open('../conference-documentation/credentials.yml') as f: self._ = yaml.load(f)\n",
    "\n",
    "    def __getitem__(self, i):\n",
    "        return self._[i]\n",
    "\n",
    "twitter_credentials = _TwitterCredentials()\n",
    "\n",
    "auth = tweepy.OAuthHandler(twitter_credentials['consumer_key'], twitter_credentials['consumer_secret'])\n",
    "auth.set_access_token(twitter_credentials['access_token'], twitter_credentials['access_token_secret'])\n",
    "api = tweepy.API(auth, wait_on_rate_limit=True, wait_on_rate_limit_notify=True)"
   ]
  },
  {
   "cell_type": "code",
   "execution_count": 72,
   "metadata": {},
   "outputs": [],
   "source": [
    "def get_tsvs_from_directory(directory):\n",
    "    return([x for x in Path(directory).glob(pattern=\"*.tsv\")])\n",
    "    \n",
    "def expand_tags_tsv(file, _filter=False, filter_field=None, filter_value=None, done=[]):\n",
    "    '''\n",
    "    The expand_tags_tsv function accepts strings of individual directories or, if you prefer, individual TAGS archive sheets, saved as .tsv files, alternatively lists of either of those.\n",
    "    \n",
    "    For example:\n",
    "    - expand_tags_tsv('../../datasets/tags-tsv/burlesk OR burleycue OR burly-q/')\n",
    "    - expand_tags_tsv('../../datasets/tags-tsv/burlesque/TAGS - burlesque 1 - Archive.tsv', _filter=True, filter_field=\"full_text\", filter_value=\"burlesque\")\n",
    "    - expand_tags_tsv('../../datasets/tags-tsv/burlesque/', _filter=True, filter_field=\"full_text\", filter_value=\"burlesque\", done=['TAGS - burlesque 60 - Archive.tsv'])\n",
    "    '''\n",
    "    if isinstance(file, str): files = [file]\n",
    "    elif isinstance(file, list): files = file\n",
    "    else: raise RuntimeError(f\"File/path passed must either be a sole file/path or a list of files/paths.\")\n",
    "        \n",
    "    for file in files:\n",
    "        if Path(file).is_file(): _ = [Path(file)]\n",
    "        elif Path(file).is_dir(): _ = get_tsvs_from_directory('../../datasets/tags-tsv/boylesque/')\n",
    "        else:\n",
    "            raise RuntimeError(f\"Cannot interpret passed argument: {file}.\")\n",
    "        for tsv in _:\n",
    "            if tsv.name not in done:\n",
    "                empty_rows, unable_to_interpret, saved_from_twitter, saved_from_tags = 0, 0, 0, 0\n",
    "\n",
    "                with Path(tsv).open(\"r\") as f:\n",
    "                    _len = len(f.readlines())\n",
    "                with Path(tsv).open(\"r\") as f:\n",
    "                    print(f\"Reading {Path(tsv).name}...\")\n",
    "                    time.sleep(1)\n",
    "                    bar = progressbar.ProgressBar(max_value=_len).start()\n",
    "                    reader = csv.DictReader(f, delimiter='\\t')\n",
    "                    for i, rows in enumerate(reader):\n",
    "                        stop = False\n",
    "\n",
    "                        bar.update(i)\n",
    "                        if not rows['created_at'] and not rows['from_user'] and not rows['text']:\n",
    "                            pass\n",
    "                        try:\n",
    "                            id_int = int(rows['id_str'])\n",
    "                            _dict = tags_to_dict(rows)\n",
    "                            if _filter: \n",
    "                                try:\n",
    "                                    if filter_value in _dict[filter_field]: stop = False\n",
    "                                    else: stop = True\n",
    "                                except TypeError:\n",
    "                                    stop = True\n",
    "\n",
    "                            if not stop:\n",
    "                                tweet_cache = tweet_cache_dir / _dict[\"id_str\"]\n",
    "                                if not tweet_cache.is_file():\n",
    "                                    ## First, check twitter for tweet here... \n",
    "                                    try:\n",
    "                                        live_tweet = api.get_status(_dict['id_str'], tweet_mode=\"extended\")\n",
    "                                        _json = live_tweet._json\n",
    "                                        _json['json_source'] = 'Twitter'\n",
    "\n",
    "                                        _json_user = _json['user']\n",
    "                                        _json['user'] = _json_user['id']\n",
    "\n",
    "                                        with Path(tweet_cache).open(\"w+\") as f:\n",
    "                                            json.dump(_json, f)\n",
    "\n",
    "                                        user_cache = user_cache_dir / str(_json_user[\"id\"])\n",
    "                                        if not user_cache.is_file():\n",
    "                                            with Path(user_cache).open(\"w+\") as f:\n",
    "                                                _json_user['json_source'] = 'Twitter'\n",
    "                                                json.dump(_json_user, f)\n",
    "\n",
    "                                        saved_from_twitter += 1\n",
    "\n",
    "                                    except tweepy.TweepError as e:\n",
    "                                        ## No tweet available:\n",
    "                                        with Path(tweet_cache).open(\"w+\") as f:\n",
    "                                            _dict['error'] = str(e)\n",
    "                                            json.dump(_dict, f)\n",
    "                                        saved_from_tags += 1\n",
    "\n",
    "                                        try:\n",
    "                                            user_cache = user_cache_dir / str(_dict[\"user\"][\"id_str\"])\n",
    "                                            if not user_cache.is_file():\n",
    "                                                live_user = api.get_user(_dict[\"user\"][\"id_str\"])\n",
    "                                                _json_user = live_user._json\n",
    "\n",
    "                                                # remove the user's latest status\n",
    "                                                try: del _json_user['status']\n",
    "                                                except KeyError: pass\n",
    "\n",
    "                                                _json_user['json_source'] = 'Twitter'\n",
    "\n",
    "                                                with Path(user_cache).open(\"w+\") as f:\n",
    "                                                    json.dump(_json_user, f)\n",
    "\n",
    "                                        except tweepy.TweepError as e:\n",
    "                                            if not user_cache.is_file():\n",
    "                                                _json_user = {\"error\": str(e)}\n",
    "                                                with Path(user_cache).open(\"w+\") as f:\n",
    "                                                    json.dump(_json_user, f)\n",
    "\n",
    "\n",
    "                        except ValueError:\n",
    "                            if rows['id_str'] == \"\":\n",
    "                                empty_rows += 1\n",
    "                            else:\n",
    "                                try:\n",
    "                                    # print(f\"Warning: Could not interpret row {i} in file {Path(file).name} due to unintelligibility but trying to find tweet ID...\")\n",
    "                                    _ = re.search(pattern=\"\\/statuses\\/([0-9]+)'\\)\", string=str(rows))\n",
    "                                    g = _.groups()\n",
    "                                    # print(f\"Good news! Found ID: {g}\")\n",
    "                                    tweet_cache = tweet_cache_dir / g[0]\n",
    "                                    if not tweet_cache.is_file():\n",
    "                                        ## First, check twitter for tweet here... \n",
    "                                        try:\n",
    "                                            if _filter: \n",
    "                                                try:\n",
    "                                                    if filter_value in _dict[filter_field]: stop = False\n",
    "                                                    else: stop = True\n",
    "                                                except TypeError:\n",
    "                                                    stop = True\n",
    "\n",
    "                                            if not stop:\n",
    "                                                live_tweet = api.get_status(g[0], tweet_mode=\"extended\")\n",
    "                                                _json = live_tweet._json\n",
    "                                                _json['json_source'] = 'Twitter'\n",
    "\n",
    "                                                _json_user = _json['user']\n",
    "                                                _json['user'] = _json_user['id']\n",
    "\n",
    "                                                with Path(tweet_cache).open(\"w+\") as f:\n",
    "                                                    json.dump(_json, f)\n",
    "\n",
    "                                                user_cache = user_cache_dir / str(_json_user[\"id\"])\n",
    "                                                if not user_cache.is_file():\n",
    "                                                    with Path(user_cache).open(\"w+\") as f:\n",
    "                                                        _json_user['json_source'] = 'Twitter'\n",
    "                                                        json.dump(_json_user, f)\n",
    "                                        except tweepy.TweepError as e:\n",
    "                                            ## No tweet available:\n",
    "                                            with Path(tweet_cache).open(\"w+\") as f:\n",
    "                                                _dict['error'] = str(e)\n",
    "                                                json.dump(_dict, f)\n",
    "                                        except:\n",
    "                                            print(f\"An error occurred in file {f}\")\n",
    "                                except:\n",
    "                                    unable_to_interpret += 1\n",
    "                    bar.finish()\n",
    "                    print(f\"---- done processing {Path(file).name} - report: -----\")\n",
    "                    print(f\"- {empty_rows} empty rows encountered.\")\n",
    "                    print(f\"- Unable to interpret {unable_to_interpret} rows.\")\n",
    "                    print(\"\\n\")\n",
    "                    print(f\"- {saved_from_twitter} tweets saved from Twitter.\")\n",
    "                    print(f\"- {saved_from_tags} tweets saved from TAGS.\")\n",
    "                    print(\"\\n\")\n",
    "\n",
    "def tags_to_dict(rows):\n",
    "    if not rows['id_str']:\n",
    "        print(\"STOP\")\n",
    "        pprint(rows)\n",
    "        exit()\n",
    "    else:\n",
    "        _dict = {\n",
    "            'created_at': rows['created_at'],\n",
    "            'id': int(rows['id_str']),\n",
    "            'id_str': rows['id_str'],\n",
    "                            'from_user': rows['from_user'],\n",
    "            'full_text': rows['text'],\n",
    "            'geo_coordinates': rows['geo_coordinates'],\n",
    "            'lang': rows['user_lang'],\n",
    "            'in_reply_to_user_id_str': rows['in_reply_to_user_id_str'],\n",
    "            'in_reply_to_screen_name': rows['in_reply_to_screen_name'],\n",
    "            'user': {\n",
    "                'id_str': rows['from_user_id_str'],\n",
    "                'followers_count': rows['user_followers_count'],\n",
    "                'friends_count': rows['user_friends_count'],\n",
    "            },\n",
    "            'in_reply_to_status_id_str': rows['in_reply_to_status_id_str'],\n",
    "            'source': rows['source'],\n",
    "            'profile_image_url': rows['profile_image_url'],\n",
    "            'entities_str': rows['entities_str'],\n",
    "            'json_source': \"TAGS\"\n",
    "        }\n",
    "    return(_dict)\n",
    "\n",
    "def get_ids_from_tsv(file):\n",
    "    if not Path(file).is_file(): raise RuntimeError(f\"File {file} does not exist.\")\n",
    "    \n",
    "    all_ids = []\n",
    "    with Path(file).open(\"r\") as f:\n",
    "        reader = csv.DictReader(f, delimiter='\\t')\n",
    "        for i, rows in enumerate(reader):\n",
    "            if not rows['created_at'] and not rows['from_user'] and not rows['text']: pass # skip empty rows\n",
    "            try:\n",
    "                id_int = int(rows['id_str'])\n",
    "                all_ids.append(id_int)\n",
    "            except:\n",
    "                print(f\"Warning: ID ({rows['id_str']}) could not be interpreted as number.\")\n",
    "    return(list(set(all_ids)))\n",
    "\n",
    "def get_json_from_cache(id=None):\n",
    "    tweet_cache = tweet_cache_dir / str(id)\n",
    "    if not tweet_cache.is_file():\n",
    "        raise RuntimeError(f\"File {id} could not be opened.\")\n",
    "    else:\n",
    "        with open(tweet_cache, \"r\") as f:\n",
    "            _json = json.load(f)\n",
    "        return(_json)"
   ]
  },
  {
   "cell_type": "code",
   "execution_count": 76,
   "metadata": {},
   "outputs": [],
   "source": []
  },
  {
   "cell_type": "code",
   "execution_count": 74,
   "metadata": {},
   "outputs": [
    {
     "name": "stdout",
     "output_type": "stream",
     "text": [
      "Warning: ID () could not be interpreted as number.\n",
      "Warning: ID () could not be interpreted as number.\n",
      "Warning: ID (I love how it makes me sound like a New Yorker 😂) could not be interpreted as number.\n"
     ]
    }
   ],
   "source": [
    "all_ids = get_ids_from_tsv(Path('../../datasets/tags-tsv/boylesque/TAGS - boylesque - Archive.tsv'))"
   ]
  },
  {
   "cell_type": "code",
   "execution_count": 77,
   "metadata": {},
   "outputs": [
    {
     "ename": "NameError",
     "evalue": "name 'stopwords' is not defined",
     "output_type": "error",
     "traceback": [
      "\u001b[0;31m---------------------------------------------------------------------------\u001b[0m",
      "\u001b[0;31mNameError\u001b[0m                                 Traceback (most recent call last)",
      "\u001b[0;32m<ipython-input-77-56d0981bf645>\u001b[0m in \u001b[0;36m<module>\u001b[0;34m\u001b[0m\n\u001b[1;32m      4\u001b[0m         \u001b[0;32mif\u001b[0m \u001b[0;34m'geo'\u001b[0m \u001b[0;32min\u001b[0m \u001b[0m_json\u001b[0m \u001b[0;32mand\u001b[0m \u001b[0m_json\u001b[0m\u001b[0;34m[\u001b[0m\u001b[0;34m'geo'\u001b[0m\u001b[0;34m]\u001b[0m \u001b[0;32mis\u001b[0m \u001b[0;32mnot\u001b[0m \u001b[0;32mNone\u001b[0m\u001b[0;34m:\u001b[0m\u001b[0;34m\u001b[0m\u001b[0;34m\u001b[0m\u001b[0m\n\u001b[1;32m      5\u001b[0m             \u001b[0;32mpass\u001b[0m \u001b[0;31m# pprint(_json['geo'])\u001b[0m\u001b[0;34m\u001b[0m\u001b[0;34m\u001b[0m\u001b[0m\n\u001b[0;32m----> 6\u001b[0;31m         \u001b[0mclean_text\u001b[0m\u001b[0;34m(\u001b[0m\u001b[0m_json\u001b[0m\u001b[0;34m[\u001b[0m\u001b[0;34m'full_text'\u001b[0m\u001b[0;34m]\u001b[0m\u001b[0;34m)\u001b[0m\u001b[0;34m\u001b[0m\u001b[0;34m\u001b[0m\u001b[0m\n\u001b[0m",
      "\u001b[0;32m<ipython-input-76-6473418e201f>\u001b[0m in \u001b[0;36mclean_text\u001b[0;34m(text, **kwargs)\u001b[0m\n\u001b[1;32m     80\u001b[0m \u001b[0;34m\u001b[0m\u001b[0m\n\u001b[1;32m     81\u001b[0m         \u001b[0;32mif\u001b[0m \u001b[0mremove_stopwords\u001b[0m\u001b[0;34m:\u001b[0m\u001b[0;34m\u001b[0m\u001b[0;34m\u001b[0m\u001b[0m\n\u001b[0;32m---> 82\u001b[0;31m             \u001b[0mstops\u001b[0m \u001b[0;34m=\u001b[0m \u001b[0mstopwords\u001b[0m\u001b[0;34m.\u001b[0m\u001b[0mwords\u001b[0m\u001b[0;34m(\u001b[0m\u001b[0;34m'english'\u001b[0m\u001b[0;34m)\u001b[0m\u001b[0;34m\u001b[0m\u001b[0;34m\u001b[0m\u001b[0m\n\u001b[0m\u001b[1;32m     83\u001b[0m             stops.extend([\n\u001b[1;32m     84\u001b[0m                 \u001b[0;34m'pm'\u001b[0m\u001b[0;34m,\u001b[0m\u001b[0;34m\u001b[0m\u001b[0;34m\u001b[0m\u001b[0m\n",
      "\u001b[0;31mNameError\u001b[0m: name 'stopwords' is not defined"
     ]
    }
   ],
   "source": [
    "for id in all_ids[0:10]:\n",
    "    _json = get_json_from_cache(id)\n",
    "    if \"boylesque\" in _json['full_text']:\n",
    "        if 'geo' in _json and _json['geo'] is not None: \n",
    "            pass # pprint(_json['geo'])\n",
    "        clean_text(_json['full_text'])"
   ]
  },
  {
   "cell_type": "code",
   "execution_count": null,
   "metadata": {},
   "outputs": [],
   "source": []
  },
  {
   "cell_type": "code",
   "execution_count": null,
   "metadata": {},
   "outputs": [],
   "source": []
  },
  {
   "cell_type": "code",
   "execution_count": null,
   "metadata": {},
   "outputs": [],
   "source": []
  },
  {
   "cell_type": "code",
   "execution_count": null,
   "metadata": {},
   "outputs": [],
   "source": []
  },
  {
   "cell_type": "code",
   "execution_count": null,
   "metadata": {},
   "outputs": [],
   "source": []
  },
  {
   "cell_type": "code",
   "execution_count": null,
   "metadata": {},
   "outputs": [],
   "source": []
  },
  {
   "cell_type": "code",
   "execution_count": 67,
   "metadata": {},
   "outputs": [
    {
     "name": "stdout",
     "output_type": "stream",
     "text": [
      "Running Instagram module version 2019-04-29.\n"
     ]
    },
    {
     "data": {
      "text/plain": [
       "'/usr/local/lib/python3.7/site-packages/instagram.py'"
      ]
     },
     "execution_count": 67,
     "metadata": {},
     "output_type": "execute_result"
    }
   ],
   "source": [
    "import instagram\n",
    "instagram.__file__"
   ]
  },
  {
   "cell_type": "code",
   "execution_count": null,
   "metadata": {},
   "outputs": [],
   "source": []
  },
  {
   "cell_type": "code",
   "execution_count": null,
   "metadata": {},
   "outputs": [],
   "source": []
  },
  {
   "cell_type": "code",
   "execution_count": null,
   "metadata": {},
   "outputs": [],
   "source": []
  },
  {
   "cell_type": "code",
   "execution_count": 10,
   "metadata": {},
   "outputs": [
    {
     "name": "stdout",
     "output_type": "stream",
     "text": [
      "Reading TAGS - boylesque - Archive.tsv...\n"
     ]
    },
    {
     "name": "stderr",
     "output_type": "stream",
     "text": []
    },
    {
     "name": "stderr",
     "output_type": "stream",
     "text": []
    },
    {
     "name": "stderr",
     "output_type": "stream",
     "text": []
    },
    {
     "name": "stderr",
     "output_type": "stream",
     "text": []
    },
    {
     "name": "stderr",
     "output_type": "stream",
     "text": []
    },
    {
     "name": "stderr",
     "output_type": "stream",
     "text": []
    },
    {
     "name": "stderr",
     "output_type": "stream",
     "text": []
    },
    {
     "name": "stderr",
     "output_type": "stream",
     "text": []
    },
    {
     "name": "stderr",
     "output_type": "stream",
     "text": []
    },
    {
     "name": "stderr",
     "output_type": "stream",
     "text": []
    },
    {
     "name": "stderr",
     "output_type": "stream",
     "text": []
    },
    {
     "name": "stderr",
     "output_type": "stream",
     "text": []
    },
    {
     "name": "stderr",
     "output_type": "stream",
     "text": []
    },
    {
     "name": "stderr",
     "output_type": "stream",
     "text": []
    },
    {
     "name": "stderr",
     "output_type": "stream",
     "text": []
    },
    {
     "name": "stderr",
     "output_type": "stream",
     "text": []
    },
    {
     "name": "stderr",
     "output_type": "stream",
     "text": []
    },
    {
     "name": "stderr",
     "output_type": "stream",
     "text": []
    },
    {
     "name": "stderr",
     "output_type": "stream",
     "text": [
      "100% (38577 of 38577) |##################| Elapsed Time: 0:00:17 Time:  0:00:17\n"
     ]
    },
    {
     "name": "stdout",
     "output_type": "stream",
     "text": [
      "---- done processing boylesque - report: -----\n",
      "- 2 empty rows encountered.\n",
      "- Unable to interpret 0 rows.\n",
      "\n",
      "\n",
      "- 0 tweets saved from Twitter.\n",
      "- 0 tweets saved from TAGS.\n",
      "\n",
      "\n",
      "Reading TAGS - boy-lesque - Archive.tsv...\n"
     ]
    },
    {
     "name": "stderr",
     "output_type": "stream",
     "text": [
      "100% (87 of 87) |########################| Elapsed Time: 0:00:00 Time:  0:00:00\n"
     ]
    },
    {
     "name": "stdout",
     "output_type": "stream",
     "text": [
      "---- done processing boy-lesque - report: -----\n",
      "- 0 empty rows encountered.\n",
      "- Unable to interpret 0 rows.\n",
      "\n",
      "\n",
      "- 0 tweets saved from Twitter.\n",
      "- 0 tweets saved from TAGS.\n",
      "\n",
      "\n"
     ]
    }
   ],
   "source": [
    "expand_tags_tsv(['../../datasets/tags-tsv/boylesque/', '../../datasets/tags-tsv/boy-lesque/'], _filter=True, filter_field=\"full_text\", filter_value=\"burlesque\") # done"
   ]
  },
  {
   "cell_type": "code",
   "execution_count": null,
   "metadata": {},
   "outputs": [],
   "source": []
  },
  {
   "cell_type": "code",
   "execution_count": 22,
   "metadata": {},
   "outputs": [
    {
     "name": "stdout",
     "output_type": "stream",
     "text": [
      "Reading TAGS - boylesque - Archive.tsv...\n"
     ]
    },
    {
     "name": "stderr",
     "output_type": "stream",
     "text": []
    },
    {
     "name": "stderr",
     "output_type": "stream",
     "text": []
    },
    {
     "name": "stderr",
     "output_type": "stream",
     "text": []
    },
    {
     "name": "stderr",
     "output_type": "stream",
     "text": []
    },
    {
     "name": "stderr",
     "output_type": "stream",
     "text": []
    },
    {
     "name": "stderr",
     "output_type": "stream",
     "text": []
    },
    {
     "name": "stderr",
     "output_type": "stream",
     "text": [
      "  7% (2967 of 38577) |#                  | Elapsed Time: 0:00:05 ETA:   0:01:43"
     ]
    },
    {
     "ename": "KeyboardInterrupt",
     "evalue": "",
     "output_type": "error",
     "traceback": [
      "\u001b[0;31m---------------------------------------------------------------------------\u001b[0m",
      "\u001b[0;31mKeyboardInterrupt\u001b[0m                         Traceback (most recent call last)",
      "\u001b[0;32m<ipython-input-22-53ce23081446>\u001b[0m in \u001b[0;36m<module>\u001b[0;34m\u001b[0m\n\u001b[1;32m      1\u001b[0m expand_tags_tsv(['../../datasets/tags-tsv/male striptease/',\n\u001b[0;32m----> 2\u001b[0;31m                  '../../datasets/tags-tsv/male burlesque/']\n\u001b[0m\u001b[1;32m      3\u001b[0m                )\n",
      "\u001b[0;32m<ipython-input-21-da1c844be6c2>\u001b[0m in \u001b[0;36mexpand_tags_tsv\u001b[0;34m(file, _filter, filter_field, filter_value, done)\u001b[0m\n\u001b[1;32m     37\u001b[0m                         \u001b[0mstop\u001b[0m \u001b[0;34m=\u001b[0m \u001b[0;32mFalse\u001b[0m\u001b[0;34m\u001b[0m\u001b[0;34m\u001b[0m\u001b[0m\n\u001b[1;32m     38\u001b[0m \u001b[0;34m\u001b[0m\u001b[0m\n\u001b[0;32m---> 39\u001b[0;31m                         \u001b[0mbar\u001b[0m\u001b[0;34m.\u001b[0m\u001b[0mupdate\u001b[0m\u001b[0;34m(\u001b[0m\u001b[0mi\u001b[0m\u001b[0;34m)\u001b[0m\u001b[0;34m\u001b[0m\u001b[0;34m\u001b[0m\u001b[0m\n\u001b[0m\u001b[1;32m     40\u001b[0m                         \u001b[0;32mif\u001b[0m \u001b[0;32mnot\u001b[0m \u001b[0mrows\u001b[0m\u001b[0;34m[\u001b[0m\u001b[0;34m'created_at'\u001b[0m\u001b[0;34m]\u001b[0m \u001b[0;32mand\u001b[0m \u001b[0;32mnot\u001b[0m \u001b[0mrows\u001b[0m\u001b[0;34m[\u001b[0m\u001b[0;34m'from_user'\u001b[0m\u001b[0;34m]\u001b[0m \u001b[0;32mand\u001b[0m \u001b[0;32mnot\u001b[0m \u001b[0mrows\u001b[0m\u001b[0;34m[\u001b[0m\u001b[0;34m'text'\u001b[0m\u001b[0;34m]\u001b[0m\u001b[0;34m:\u001b[0m\u001b[0;34m\u001b[0m\u001b[0;34m\u001b[0m\u001b[0m\n\u001b[1;32m     41\u001b[0m                             \u001b[0;32mpass\u001b[0m\u001b[0;34m\u001b[0m\u001b[0;34m\u001b[0m\u001b[0m\n",
      "\u001b[0;32m/usr/local/lib/python3.7/site-packages/progressbar/bar.py\u001b[0m in \u001b[0;36mupdate\u001b[0;34m(self, value, force, **kwargs)\u001b[0m\n\u001b[1;32m    590\u001b[0m \u001b[0;34m\u001b[0m\u001b[0m\n\u001b[1;32m    591\u001b[0m             \u001b[0;31m# Only flush if something was actually written\u001b[0m\u001b[0;34m\u001b[0m\u001b[0;34m\u001b[0m\u001b[0;34m\u001b[0m\u001b[0m\n\u001b[0;32m--> 592\u001b[0;31m             \u001b[0mself\u001b[0m\u001b[0;34m.\u001b[0m\u001b[0mfd\u001b[0m\u001b[0;34m.\u001b[0m\u001b[0mflush\u001b[0m\u001b[0;34m(\u001b[0m\u001b[0;34m)\u001b[0m\u001b[0;34m\u001b[0m\u001b[0;34m\u001b[0m\u001b[0m\n\u001b[0m\u001b[1;32m    593\u001b[0m \u001b[0;34m\u001b[0m\u001b[0m\n\u001b[1;32m    594\u001b[0m     \u001b[0;32mdef\u001b[0m \u001b[0mstart\u001b[0m\u001b[0;34m(\u001b[0m\u001b[0mself\u001b[0m\u001b[0;34m,\u001b[0m \u001b[0mmax_value\u001b[0m\u001b[0;34m=\u001b[0m\u001b[0;32mNone\u001b[0m\u001b[0;34m,\u001b[0m \u001b[0minit\u001b[0m\u001b[0;34m=\u001b[0m\u001b[0;32mTrue\u001b[0m\u001b[0;34m)\u001b[0m\u001b[0;34m:\u001b[0m\u001b[0;34m\u001b[0m\u001b[0;34m\u001b[0m\u001b[0m\n",
      "\u001b[0;32m/usr/local/lib/python3.7/site-packages/ipykernel/iostream.py\u001b[0m in \u001b[0;36mflush\u001b[0;34m(self)\u001b[0m\n\u001b[1;32m    347\u001b[0m                 \u001b[0mself\u001b[0m\u001b[0;34m.\u001b[0m\u001b[0mpub_thread\u001b[0m\u001b[0;34m.\u001b[0m\u001b[0mschedule\u001b[0m\u001b[0;34m(\u001b[0m\u001b[0mevt\u001b[0m\u001b[0;34m.\u001b[0m\u001b[0mset\u001b[0m\u001b[0;34m)\u001b[0m\u001b[0;34m\u001b[0m\u001b[0;34m\u001b[0m\u001b[0m\n\u001b[1;32m    348\u001b[0m                 \u001b[0;31m# and give a timeout to avoid\u001b[0m\u001b[0;34m\u001b[0m\u001b[0;34m\u001b[0m\u001b[0;34m\u001b[0m\u001b[0m\n\u001b[0;32m--> 349\u001b[0;31m                 \u001b[0;32mif\u001b[0m \u001b[0;32mnot\u001b[0m \u001b[0mevt\u001b[0m\u001b[0;34m.\u001b[0m\u001b[0mwait\u001b[0m\u001b[0;34m(\u001b[0m\u001b[0mself\u001b[0m\u001b[0;34m.\u001b[0m\u001b[0mflush_timeout\u001b[0m\u001b[0;34m)\u001b[0m\u001b[0;34m:\u001b[0m\u001b[0;34m\u001b[0m\u001b[0;34m\u001b[0m\u001b[0m\n\u001b[0m\u001b[1;32m    350\u001b[0m                     \u001b[0;31m# write directly to __stderr__ instead of warning because\u001b[0m\u001b[0;34m\u001b[0m\u001b[0;34m\u001b[0m\u001b[0;34m\u001b[0m\u001b[0m\n\u001b[1;32m    351\u001b[0m                     \u001b[0;31m# if this is happening sys.stderr may be the problem.\u001b[0m\u001b[0;34m\u001b[0m\u001b[0;34m\u001b[0m\u001b[0;34m\u001b[0m\u001b[0m\n",
      "\u001b[0;32m/usr/local/Cellar/python/3.7.1/Frameworks/Python.framework/Versions/3.7/lib/python3.7/threading.py\u001b[0m in \u001b[0;36mwait\u001b[0;34m(self, timeout)\u001b[0m\n\u001b[1;32m    550\u001b[0m             \u001b[0msignaled\u001b[0m \u001b[0;34m=\u001b[0m \u001b[0mself\u001b[0m\u001b[0;34m.\u001b[0m\u001b[0m_flag\u001b[0m\u001b[0;34m\u001b[0m\u001b[0;34m\u001b[0m\u001b[0m\n\u001b[1;32m    551\u001b[0m             \u001b[0;32mif\u001b[0m \u001b[0;32mnot\u001b[0m \u001b[0msignaled\u001b[0m\u001b[0;34m:\u001b[0m\u001b[0;34m\u001b[0m\u001b[0;34m\u001b[0m\u001b[0m\n\u001b[0;32m--> 552\u001b[0;31m                 \u001b[0msignaled\u001b[0m \u001b[0;34m=\u001b[0m \u001b[0mself\u001b[0m\u001b[0;34m.\u001b[0m\u001b[0m_cond\u001b[0m\u001b[0;34m.\u001b[0m\u001b[0mwait\u001b[0m\u001b[0;34m(\u001b[0m\u001b[0mtimeout\u001b[0m\u001b[0;34m)\u001b[0m\u001b[0;34m\u001b[0m\u001b[0;34m\u001b[0m\u001b[0m\n\u001b[0m\u001b[1;32m    553\u001b[0m             \u001b[0;32mreturn\u001b[0m \u001b[0msignaled\u001b[0m\u001b[0;34m\u001b[0m\u001b[0;34m\u001b[0m\u001b[0m\n\u001b[1;32m    554\u001b[0m \u001b[0;34m\u001b[0m\u001b[0m\n",
      "\u001b[0;32m/usr/local/Cellar/python/3.7.1/Frameworks/Python.framework/Versions/3.7/lib/python3.7/threading.py\u001b[0m in \u001b[0;36mwait\u001b[0;34m(self, timeout)\u001b[0m\n\u001b[1;32m    298\u001b[0m             \u001b[0;32melse\u001b[0m\u001b[0;34m:\u001b[0m\u001b[0;34m\u001b[0m\u001b[0;34m\u001b[0m\u001b[0m\n\u001b[1;32m    299\u001b[0m                 \u001b[0;32mif\u001b[0m \u001b[0mtimeout\u001b[0m \u001b[0;34m>\u001b[0m \u001b[0;36m0\u001b[0m\u001b[0;34m:\u001b[0m\u001b[0;34m\u001b[0m\u001b[0;34m\u001b[0m\u001b[0m\n\u001b[0;32m--> 300\u001b[0;31m                     \u001b[0mgotit\u001b[0m \u001b[0;34m=\u001b[0m \u001b[0mwaiter\u001b[0m\u001b[0;34m.\u001b[0m\u001b[0macquire\u001b[0m\u001b[0;34m(\u001b[0m\u001b[0;32mTrue\u001b[0m\u001b[0;34m,\u001b[0m \u001b[0mtimeout\u001b[0m\u001b[0;34m)\u001b[0m\u001b[0;34m\u001b[0m\u001b[0;34m\u001b[0m\u001b[0m\n\u001b[0m\u001b[1;32m    301\u001b[0m                 \u001b[0;32melse\u001b[0m\u001b[0;34m:\u001b[0m\u001b[0;34m\u001b[0m\u001b[0;34m\u001b[0m\u001b[0m\n\u001b[1;32m    302\u001b[0m                     \u001b[0mgotit\u001b[0m \u001b[0;34m=\u001b[0m \u001b[0mwaiter\u001b[0m\u001b[0;34m.\u001b[0m\u001b[0macquire\u001b[0m\u001b[0;34m(\u001b[0m\u001b[0;32mFalse\u001b[0m\u001b[0;34m)\u001b[0m\u001b[0;34m\u001b[0m\u001b[0;34m\u001b[0m\u001b[0m\n",
      "\u001b[0;31mKeyboardInterrupt\u001b[0m: "
     ]
    }
   ],
   "source": [
    "expand_tags_tsv(['../../datasets/tags-tsv/male striptease/','../../datasets/tags-tsv/male burlesque/'])"
   ]
  },
  {
   "cell_type": "code",
   "execution_count": null,
   "metadata": {},
   "outputs": [],
   "source": []
  }
 ],
 "metadata": {
  "kernelspec": {
   "display_name": "Python 3",
   "language": "python",
   "name": "python3"
  },
  "language_info": {
   "codemirror_mode": {
    "name": "ipython",
    "version": 3
   },
   "file_extension": ".py",
   "mimetype": "text/x-python",
   "name": "python",
   "nbconvert_exporter": "python",
   "pygments_lexer": "ipython3",
   "version": "3.7.1"
  }
 },
 "nbformat": 4,
 "nbformat_minor": 2
}
