{
 "cells": [
  {
   "cell_type": "code",
   "execution_count": 6,
   "metadata": {},
   "outputs": [],
   "source": [
    "import csv\n",
    "import progressbar\n",
    "from pathlib import Path\n",
    "from time import sleep\n",
    "\n",
    "def process_file(pathname):\n",
    "    _ids = []\n",
    "    file = Path(pathname)\n",
    "    textfile = Path(f\"{file.parent / Path(file.stem)}.txt\")\n",
    "    print(file, textfile)\n",
    "    if textfile.is_file():\n",
    "        print(textfile, \"already exists.\")\n",
    "    else:\n",
    "        with file.open() as f:\n",
    "            _len = len(f.read().split(\"\\n\"))\n",
    "        with file.open() as f:\n",
    "            bar = progressbar.ProgressBar(max_value=_len).start()\n",
    "            reader = csv.DictReader(f, delimiter='\\t')\n",
    "            for i, row in enumerate(reader):\n",
    "                bar.update(i)\n",
    "                if row['text'] is not None: # and \"burlesque\" in row['text'].lower(): --- commented this out as we're dealing with a new dataset\n",
    "                    if row['id_str'] not in _ids: _ids.append(row['id_str'])\n",
    "                else:\n",
    "                    pass # print(f\"Burlesque not in text:\\n{row['text']}\\n\")\n",
    "            bar.finish()\n",
    "\n",
    "        with textfile.open(mode=\"w+\") as f:\n",
    "            f.write(\"\\n\".join(_ids))"
   ]
  },
  {
   "cell_type": "code",
   "execution_count": 7,
   "metadata": {},
   "outputs": [],
   "source": [
    "'''\n",
    "# How to use function above\n",
    "for pathname in [\n",
    "    '../../../Downloads/TAGS - Male striptease 2 - Archive.tsv',\n",
    "    '../../../Downloads/TAGS - _male burlesque_ - Archive.tsv',\n",
    "    '../../../Downloads/TAGS - boy-lesque - Archive.tsv',\n",
    "    '../../../Downloads/TAGS - boylesque - Archive.tsv',\n",
    "    '../../../Downloads/TAGS - burlesk OR burleycue OR burly-q - Archive.tsv',\n",
    "    '../../../Downloads/TAGS - Male striptease 1 - Archive.tsv',\n",
    "]:\n",
    "    process_file(pathname)\n",
    "''' \n",
    "pass"
   ]
  },
  {
   "cell_type": "code",
   "execution_count": 5,
   "metadata": {},
   "outputs": [],
   "source": [
    "def consolidate_lines_in_files(file_list=[], resulting_file=None):\n",
    "    all_lines = set()\n",
    "    for file in file_list:\n",
    "        p = Path(file)\n",
    "        print(f\"Opening {p}...\")\n",
    "        with p.open() as f:\n",
    "            lines2 = set(f.read().split(\"\\n\"))\n",
    "            all_lines = all_lines.union(lines2)\n",
    "            print(f\"All lines are now {len(all_lines)}...\")\n",
    "        with Path(resulting_file).open(mode=\"w+\") as f:\n",
    "            f.write(\"\\n\".join(all_lines))"
   ]
  },
  {
   "cell_type": "code",
   "execution_count": 8,
   "metadata": {},
   "outputs": [],
   "source": [
    "'''\n",
    "# How to use function above\n",
    "all_files = list(Path(\"../../datasets/tags-burlesque/\").glob(pattern=\"*.txt\"))\n",
    "consolidate_lines_in_files(all_files, \"../../datasets/tags-burlesque/__master-burlesque__\")\n",
    "'''\n",
    "pass"
   ]
  },
  {
   "cell_type": "code",
   "execution_count": null,
   "metadata": {},
   "outputs": [],
   "source": []
  }
 ],
 "metadata": {
  "kernelspec": {
   "display_name": "Python 3",
   "language": "python",
   "name": "python3"
  },
  "language_info": {
   "codemirror_mode": {
    "name": "ipython",
    "version": 3
   },
   "file_extension": ".py",
   "mimetype": "text/x-python",
   "name": "python",
   "nbconvert_exporter": "python",
   "pygments_lexer": "ipython3",
   "version": "3.7.1"
  }
 },
 "nbformat": 4,
 "nbformat_minor": 2
}
